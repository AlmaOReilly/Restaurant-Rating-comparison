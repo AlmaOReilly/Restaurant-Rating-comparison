{
 "cells": [
  {
   "cell_type": "markdown",
   "id": "ae30b5ab",
   "metadata": {},
   "source": [
    "# Project: Compare New York Pizza Restaurants with above average and below average ratings"
   ]
  },
  {
   "cell_type": "markdown",
   "id": "c573fd07",
   "metadata": {},
   "source": [
    "This project was an assignment whilst participating in Data analytics: Elevate course offered by the education institution, Academy Xi. This project applies knowledge of python and visualisation skills, using matplotlib.\n",
    "\n",
    "**Files**\n",
    " - 'pizza_businesses.json' is a Yelp dataset containing information about restaurants in New York City including their respective ratings.\n",
    " - 'RestaurantRatingsGH.ipynb'is a jupyter notebook containing the code.\n",
    "\n",
    "**Case Study Business Background**\n",
    "A client is considering opening a pizza restaurant in New York City. They wish to fact check the following claims:\n",
    "\n",
    "Claim 1. The client wants to ensure they have an above average Yelp rating. They have previously owned restuarants in other cities, where a 3 was the average. They would like to know if that holds true in New York City. \n",
    "\n",
    "Claim 2. The client has noticed that restaurants on yelp with a high review count seem to be quite successful. They have decided to focus on maximizing their review count which they believe will allow them to have an above average overall review. \n",
    "\n",
    "Claim 3. After looking at a few restaurants on Yelp, your client believes that most above average restaurants have a price point of \\$$.\n",
    "They are considering increasing their prices from \\$ to \\$$ to match the majority of above average restaurants, and would like you to find the most common price point for above average restaurants in New York City.\n",
    "\n",
    "Claim 4. In terms of location they have been told that above average restaurants are usually further east and below average are usually further west, but that the biggest difference is whether the restaurant is on the north or south side. They would like you to determine if the data supports this claim.\n",
    "\n",
    "Claim 5. They believe that the '10012' zipcode in New York City is the best place to open a restaurant. They wish to open a restaurant in close proximity to other highly rated restaurants, and they believe '10012' has the most in NYC."
   ]
  },
  {
   "cell_type": "markdown",
   "id": "fundamental-explanation",
   "metadata": {},
   "source": [
    "# Precursor:  Load the data & describe the Structure of the data"
   ]
  },
  {
   "cell_type": "code",
   "execution_count": 1,
   "id": "finnish-hardwood",
   "metadata": {},
   "outputs": [],
   "source": [
    "#Load the json file\n",
    "import json\n",
    "with open(\"pizza_businesses.json\") as f:\n",
    "    data = json.load(f)"
   ]
  },
  {
   "cell_type": "code",
   "execution_count": 2,
   "id": "false-afghanistan",
   "metadata": {},
   "outputs": [
    {
     "name": "stdout",
     "output_type": "stream",
     "text": [
      "The dataset is a: <class 'list'>\n",
      "The observations are a: <class 'dict'>\n",
      "There are: 1000 observations \n",
      "\n",
      "==========================================\n",
      "Details of the first observation: {'name': 'Prince Street Pizza', 'review_count': 3976, 'rating': 4.5, 'price': '\\\\$', 'location': {'address1': '27 Prince St', 'address2': None, 'address3': '', 'city': 'New York', 'zip_code': '10012', 'country': 'US', 'state': 'NY', 'display_address': ['27 Prince St', 'New York, NY 10012']}, 'transactions': ['delivery', 'pickup'], 'phone': '+12129664100', 'latitude': 40.72308755605564, 'longitude': -73.99453001177575}\n",
      "==========================================\n"
     ]
    }
   ],
   "source": [
    "# Datatype for the overall dataset\n",
    "dataset_type = type(data)\n",
    "# First observation\n",
    "first_observation = data[0]\n",
    "# Datatype for the first observation\n",
    "observation_type = type(data[0])\n",
    "# How many observations there are\n",
    "num_observations = len(data)\n",
    "\n",
    "print(\"The dataset is a:\", dataset_type)\n",
    "print('The observations are a:', observation_type)\n",
    "print('There are:',num_observations, 'observations','\\n')\n",
    "print('==========================================')\n",
    "print('Details of the first observation:',first_observation)\n",
    "print('==========================================')"
   ]
  },
  {
   "cell_type": "markdown",
   "id": "f391cbe6",
   "metadata": {},
   "source": [
    "# Topic 1: What is the average Yelp rating for restaurants"
   ]
  },
  {
   "cell_type": "markdown",
   "id": "19bdf7b9",
   "metadata": {},
   "source": [
    "**Claim 1:The client wants to ensure they have an above average Yelp rating. They have previously owned restuarants in other cities, where a 3 was the average. They would like to know if that holds true in New York City.**"
   ]
  },
  {
   "cell_type": "markdown",
   "id": "4e36a170",
   "metadata": {},
   "source": [
    "This claim will be reviewed through a series a steps (a-b) before an observation is made. \n",
    "We will interpret a ratings histogram and observe how the visualisation relate to the client's claims."
   ]
  },
  {
   "cell_type": "markdown",
   "id": "atlantic-application",
   "metadata": {},
   "source": [
    "## a) Find the possible rating options (of the restaurants). "
   ]
  },
  {
   "cell_type": "code",
   "execution_count": 3,
   "id": "broke-array",
   "metadata": {},
   "outputs": [
    {
     "name": "stdout",
     "output_type": "stream",
     "text": [
      "The current unique restaurant ratings are: {1.0, 2.5, 3.0, 3.5, 5.0, 4.5, 4.0, 2.0}\n"
     ]
    }
   ],
   "source": [
    "#Create the `rating_options` variable for the restaurant ratings.\n",
    "#This variable will need to be in the format of a set, which ia a unique collection of the possible ratings.\n",
    "\n",
    "rating_options = set()\n",
    "# Loop over all of the observations in the dataset\n",
    "for i in range(len(data)):\n",
    "# Isolate the rating for the restaurant\n",
    "    data[i]['rating'] \n",
    "# Add the rating to \n",
    "# the `rating_options` variable\n",
    "    rating_options.add(data[i]['rating'])\n",
    "rating_options\n",
    "print('The current unique restaurant ratings are:',(rating_options))"
   ]
  },
  {
   "cell_type": "markdown",
   "id": "charitable-oracle",
   "metadata": {},
   "source": [
    "## b) Visualisation: Plot the distribution for ratings"
   ]
  },
  {
   "cell_type": "code",
   "execution_count": 4,
   "id": "6419a30d",
   "metadata": {},
   "outputs": [
    {
     "data": {
      "image/png": "[encoded data removed]",
      "text/plain": [
       "<Figure size 1080x432 with 1 Axes>"
      ]
     },
     "metadata": {
      "needs_background": "light"
     },
     "output_type": "display_data"
    }
   ],
   "source": [
    "#Knowing what rating options are available, we can plot a histogram showing the distribution of ratings.\n",
    "\n",
    "# Import matplotlib's pyplot module\n",
    "import matplotlib.pyplot as plt\n",
    "\n",
    "# Create an empty list. We will store all ratings in this list\n",
    "ratings = []\n",
    "\n",
    "# Loop over every restaurant in the dataset\n",
    "for i in range(len(data)):\n",
    "    # Isolate the rating\n",
    "    r = data[i]['rating']\n",
    "    # Append the rating to the `ratings` list\n",
    "    ratings.append(r)\n",
    "    \n",
    "# Create a matplotlib subplot\n",
    "%matplotlib inline\n",
    "fig, ax = plt.subplots(figsize = (15,6))\n",
    "\n",
    "# Statistics for the plot\n",
    "import numpy as np\n",
    "\n",
    "mean = sum(ratings)/len(ratings) # 4.016\n",
    "median = np.median(ratings) #4.0\n",
    "minimum = min(ratings) # 1\n",
    "maximum = max(ratings) # 5 \n",
    "#Mode\n",
    "ratings_array = np.array(ratings)\n",
    "values,counts = np.unique(ratings_array, return_counts=True)\n",
    "index = np.argmax(counts)   \n",
    "mode = values[index] #4\n",
    "#Std\n",
    "std = np.std(ratings_array) #0.4813979642665723\n",
    "#iqr\n",
    "quantile1, quantile2, quantile3 = np.percentile(ratings_array,[25,50,75]) # 4,4,4.5\n",
    "iqr = (quantile3 - quantile1) #0.5\n",
    "\n",
    "# Plot a histogram of the ratings list\n",
    "bins = np.arange(min(values),max(values)+1,0.5)\n",
    "ax.hist(ratings, bins = bins, edgecolor = 'black', width = 0.3)\n",
    "plt.axvline(mean, color='gold', linestyle='dashed', linewidth=3)\n",
    "\n",
    "#visualisation\n",
    "ax.set_title(\"New York Pizza Restaurant Ratings\", weight = 'bold', size =20)\n",
    "ax.set_xlabel(\"Ratings\",size = 15,)\n",
    "ax.set_ylabel(\"Number of Restaurants\", size = 15)\n",
    "ax.legend([\"Central Tendancy\",\"Yelp Rating\"], loc = 2)\n",
    "ax.text(1.3,50,\"mode = 4.0\\nmedian = 4.0\\nmean = 4.02\",size = 12)\n",
    "ax.set_xlim(min(values),max(values)+0.5)\n",
    "ax.set_ylim(0,max(counts)+10);"
   ]
  },
  {
   "cell_type": "markdown",
   "id": "adjusted-sterling",
   "metadata": {},
   "source": [
    "## Observation 1: Yelp average restaurant ratings\n",
    "\n",
    "After analysing 1,000 pizza restaurants in New York the measure of central tendancy, whether using mean, median or mode results in a Yelp rating of 4 or very close to (4.016 for the mean).  The client has restaurants in other cities, where 3 is the average. If this was an acceptable rating for the client, then their restaurant rating would be below the average for New York and their rating would be in the lower quartile of ratings. \n",
    "The visualisation from the histogram shows the most frequent rating in New York to be 4. There are a few outliers (minimum rating being 1 and maximum rating being 5), however, this is not having an impact on the mean. From the histogram you can see the majority of rating are clustered between a rating of 3.5 to 4.5. This is further confirmed by the standard deviation of 0.48 , which measures and confirms how tightly the ratings are clustered around the mean. "
   ]
  },
  {
   "cell_type": "markdown",
   "id": "78a3ecc7",
   "metadata": {},
   "source": [
    "\n",
    "# Topic 2. Restaurants with a high review count have an above average review on Yelp?\n",
    "\n",
    "**Claim 2: The client has noticed that restaurants on yelp with a high review count seem to be quite successful. They have decided to focus on maximising their review count which they believe will allow them to have an above average overall review.**\n",
    "\n",
    "This claim will be reviewed through a series a steps (a-d) before an observation is made. \n",
    "We will isolate the above and below average rated restaurants then isolate the review count for each group before applying some central tendency statistics. We will interpret a ratings histogram and observe how the visualisation relate to the client's claims."
   ]
  },
  {
   "cell_type": "markdown",
   "id": "martial-receiver",
   "metadata": {},
   "source": [
    "## a) Isolate the restaurants with an above average rating\n",
    "Now that we have an understanding for what is an average rating, we can isolate restaurants with above average and below average ratings, then complete a comparison."
   ]
  },
  {
   "cell_type": "code",
   "execution_count": 5,
   "id": "possible-arrest",
   "metadata": {},
   "outputs": [
    {
     "name": "stdout",
     "output_type": "stream",
     "text": [
      "There are 306  restaurants with a rating of at least 4.5 star\n",
      "The ratings are in a  <class 'list'>\n",
      "Each rating is a <class 'dict'>\n"
     ]
    }
   ],
   "source": [
    "# Create an empty list\n",
    "# Store restaurants in this list - With ABOVE average ratings (at least 4.5)\n",
    "above_average = []\n",
    "# Loop over the dataset\n",
    "for i in range(len(data)):\n",
    "    # Isolate the rating\n",
    "    rating = data[i]['rating']    \n",
    "    # Check if the rating is at least 4.5\n",
    "    if rating >= 4.5:\n",
    "        # If the rating is at least 4.5\n",
    "        # Add the restaurant to the list\n",
    "        above_average.append(data[i])\n",
    "        \n",
    "print(\"There are\", len(above_average),\" restaurants with a rating of at least 4.5 star\")\n",
    "print(\"The ratings are in a \",type(above_average))\n",
    "print('Each rating is a',type(above_average[0]))"
   ]
  },
  {
   "cell_type": "markdown",
   "id": "elder-petersburg",
   "metadata": {},
   "source": [
    "## b) Isolate restaurants with a below average rating"
   ]
  },
  {
   "cell_type": "code",
   "execution_count": 6,
   "id": "intense-deviation",
   "metadata": {},
   "outputs": [
    {
     "name": "stdout",
     "output_type": "stream",
     "text": [
      "There are 247 restaurants with a rating no more than 3.5 star\n",
      "The ratings are in a  <class 'list'>\n",
      "Each rating is a <class 'dict'>\n"
     ]
    }
   ],
   "source": [
    "# Create an empty list\n",
    "# Store restaurants in this list - With BELOW average ratings (no more than 3.5)\n",
    "below_average = []\n",
    "# Loop over the restaurants in the dataset\n",
    "for i in range(len(data)):\n",
    "    # Isolate the rating\n",
    "    rating = data[i]['rating']  \n",
    "    # Check if the rating is no more than 3.5\n",
    "    if rating <= 3.5:\n",
    "        # If the rating no more than 3.5\n",
    "        # Add the restaurant to the list\n",
    "        below_average.append(data[i])\n",
    "\n",
    "print(\"There are\", len(below_average),\"restaurants with a rating no more than 3.5 star\")\n",
    "print(\"The ratings are in a \",type(below_average))\n",
    "print('Each rating is a',type(below_average[0]))"
   ]
  },
  {
   "cell_type": "markdown",
   "id": "competitive-roommate",
   "metadata": {},
   "source": [
    "## c) Define a function (saving time in creating lists)\n",
    "\n",
    "Now that we've isolated above average and below average restaurants, we need to isolate the review count of each restaurant. \n",
    "The code for isolating the review count will look very similar to code we have previously written, which is a good sign that a function should be defined!\n",
    "\n",
    "we will define a function called isolate_values that receives two arguments:\n",
    "1. A list of dictionaries\n",
    "2. A string indicating the key that should be isolated for each dictionary\n",
    "\n",
    "This function will:\n",
    "- Loop over every dictionary in the inputted list\n",
    "- Pull out the value assigned to the inputted key\n",
    "- Append the value to a new list\n",
    "- Return the new list of values"
   ]
  },
  {
   "cell_type": "code",
   "execution_count": 7,
   "id": "efficient-kingdom",
   "metadata": {},
   "outputs": [],
   "source": [
    "def isolate_values(dictionaries, key):\n",
    "    # Create an empty list for storing data\n",
    "    isolate_values = []\n",
    "    \n",
    "    # Loop over every dictionary \n",
    "    for i in range(len(dictionaries)):\n",
    "        \n",
    "        # Isolate the value of the dictionary with the `key`\n",
    "        value = dictionaries[i][key]\n",
    "     \n",
    "        # Append the value to the list\n",
    "        isolate_values.append(value)\n",
    "    \n",
    "    # Return the list of values\n",
    "    return isolate_values"
   ]
  },
  {
   "cell_type": "markdown",
   "id": "outer-assembly",
   "metadata": {},
   "source": [
    "Now we can use the 'isolate_values' function to create a list called 'abv_avg_rev_cnts' that contains the review counts for every above average restaurant and a similar list 'blw_avg_rev_cnts' for below average restaurants."
   ]
  },
  {
   "cell_type": "code",
   "execution_count": 8,
   "id": "useful-halloween",
   "metadata": {},
   "outputs": [],
   "source": [
    "abv_avg_rev_cnts = isolate_values(above_average,'review_count')\n",
    "blw_avg_rev_cnts = isolate_values(below_average,'review_count')"
   ]
  },
  {
   "cell_type": "markdown",
   "id": "verbal-pressing",
   "metadata": {},
   "source": [
    "## d) Plot a histogram of review counts & calculate the average review count\n",
    "Now that we have isolated the review counts for both groups, you can calculate the average review count!\n",
    "\n",
    "In the cell below, we plot a histogram for above average and below average restaurant review counts.\n",
    "But before we do that, we should inspect the distribution of review counts to make sure 'mean' is an appropriate measure of centrality."
   ]
  },
  {
   "cell_type": "code",
   "execution_count": 9,
   "id": "2a99c05a",
   "metadata": {},
   "outputs": [
    {
     "name": "stdout",
     "output_type": "stream",
     "text": [
      "ABOVE AVERAGE\n",
      "mean above: 189.39\n",
      "median above: 65.5\n",
      "mode above: 1\n",
      "Std above: 394.47\n",
      "Iqr above: 174.5 \n",
      " \n",
      "\n",
      "BELOW AVERAGE\n",
      "mean below: 286.0\n",
      "median below: 168.0\n",
      "mode below: 20\n",
      "Std below: 432.59\n",
      "Iqr below: 257.5\n"
     ]
    },
    {
     "data": {
      "image/png": "[encoded data removed]",
      "text/plain": [
       "<Figure size 1080x432 with 2 Axes>"
      ]
     },
     "metadata": {
      "needs_background": "light"
     },
     "output_type": "display_data"
    }
   ],
   "source": [
    "#Initialise a matplotlib subplot with 1 row and 2 columns\n",
    "fig, ax = plt.subplots(1,2, figsize=(15,6))\n",
    "\n",
    "#Plot a histogram of above average review counts\n",
    "ax[0].hist(abv_avg_rev_cnts,bins=100,edgecolor = 'grey',color = 'orange')\n",
    "\n",
    "ax[0].set_title(\"Above Average - Review Counts\", weight = 'bold', size = 20)\n",
    "ax[0].text(3000,50,\"mode = 1.0\\nmedian = 65.5\\nmean = 189.39\\nstd = 394.47\\niqr=174.5\",size = 12)\n",
    "ax[0].set_xlabel(\"Review Count\",size = 15,)\n",
    "ax[0].set_ylabel(\"Frequency\", size = 15)\n",
    "\n",
    "#Plot a histogram of below average review counts\n",
    "ax[1].hist(blw_avg_rev_cnts,bins=100,edgecolor = 'grey',color = 'teal')\n",
    "\n",
    "ax[1].set_title(\"Below Average - Review Counts\", weight = 'bold', size = 20) \n",
    "ax[1].text(3000,16,\"mode = 20.0\\nmedian = 168\\nmean = 286\\nstd = 432.59\\niqr=257.5\",size = 12)\n",
    "ax[1].set_xlabel(\"Review Count\",size = 15,)\n",
    "ax[1].set_ylabel(\"Frequency\", size = 15)\n",
    "\n",
    "#Statistics: Central tendancy & dispersion\n",
    "aac = np.array(abv_avg_rev_cnts) \n",
    "bac = np.array(blw_avg_rev_cnts)\n",
    "\n",
    "#Above Average Dataset\n",
    "print('ABOVE AVERAGE')\n",
    "#mean / median\n",
    "mean_above = np.mean(aac) \n",
    "median_above = np.median(aac) \n",
    "print(\"mean above:\",mean_above.round(2)) \n",
    "print(\"median above:\",median_above.round(2))\n",
    "#mode\n",
    "values_a,counts_a = np.unique(aac,return_counts=True)\n",
    "index_above = np.argmax(counts_a) \n",
    "mode_above = values_a[index_above] \n",
    "print(\"mode above:\",mode_above.round(2)) \n",
    "#Std / Iqr\n",
    "std_above = np.std(aac) \n",
    "print(\"Std above:\",std_above.round(2))\n",
    "q1_above, q2_above, q3_above = np.percentile(aac,[25,50,75]) # 16.25 65.5 190.75\n",
    "iqr_above = (q3_above - q1_above)\n",
    "print(\"Iqr above:\",iqr_above,\"\\n\",'\\n') #174.5\n",
    "\n",
    "#Below Average Dataset\n",
    "print('BELOW AVERAGE')\n",
    "#mean / median\n",
    "mean_below = np.mean(bac)\n",
    "median_below = np.median(bac)\n",
    "print(\"mean below:\", mean_below.round(2)) \n",
    "print(\"median below:\", median_below.round(2))\n",
    "#mode\n",
    "values_b,counts_b = np.unique(bac,return_counts=True)\n",
    "index_below = np.argmax(counts_b) \n",
    "mode_below = values_b[index_below] \n",
    "print(\"mode below:\",mode_below.round(2)) \n",
    "#Std / Iqr\n",
    "std_below = np.std(bac) \n",
    "print(\"Std below:\",std_below.round(2))\n",
    "q1_below, q2_below, q3_below = np.percentile(bac,[25,50,75]) # 77.0 168.0 334.5\n",
    "iqr_below = (q3_below - q1_below)\n",
    "print(\"Iqr below:\",iqr_below) #257.5;"
   ]
  },
  {
   "cell_type": "markdown",
   "id": "regulation-radius",
   "metadata": {},
   "source": [
    "## Observation 2: Maximising the review count = above average review? \n",
    "(Let us Interpret the above visualizations). "
   ]
  },
  {
   "cell_type": "markdown",
   "id": "atmospheric-trauma",
   "metadata": {},
   "source": [
    "Attempting to maximise review count does not necessarily translate into an above average ratings review. This is contrary to the clients observations. Lets see what statistic is best suited for these data!\n",
    "\n",
    "First glance at the data for both histographs is skewed to the right (positively skewed).This is due to a few restaurants having a large number of review counts and this is distorting the mean and over estimating the number of reviews of a restaurant. This implies that the mean is not the best measure of tendancy for these data groups.\n",
    "\n",
    "In a skewed distribution, the median or mode is often a preferred measure of central tendency, as the mean is not usually in the middle of the distribution and is pulled in the direction of the skew (to the right).\n",
    "The data has a wide dispersion (using standard deviation) around the mean for both above & below rated restaurants. This is because outliers increases the average of the deviations, which gives the impression of a wide variability in scores. Mean and standard deviations are not the best choice for these skewed datasets.\n",
    "\n",
    "Mode or median are best central tendancy measures when there are outliers as it is least sensitive to outliers, the mode giving the most frequency occurance of data & the median is the middle value. \n",
    "\n",
    "The interquartile range (IQR) may be a better measure of variability for skewed distributions with outliers as it's based on values that come from the middle half of the distribution, and is less likely to be influenced by outliers.\n",
    "\n",
    "Examining the above average rated restaurants the mode is 1, in that the most frequent number of reviews by an above average rated restaurant is just one review. This contrasts with the below average rating restaurant in that 20 (the mode) reviews is the most common. Attempting to maximise review count does not necessarily translate into an above average ratings review.\n",
    "\n",
    "Even if you were to dismiss the misleading result of the mean valuation, below average rated restaurants tend to have higher average count of reviews (285.99(below) vs 189.38(above)), which does not support the thesis that maximising the review count will allow the client to have an above average overall review.\""
   ]
  },
  {
   "cell_type": "markdown",
   "id": "94ebb455",
   "metadata": {},
   "source": [
    "# Topic 3: Find the most common price point in above average restaurants."
   ]
  },
  {
   "cell_type": "markdown",
   "id": "7c18d81e",
   "metadata": {},
   "source": [
    "**Claim 3: After looking at a few restaurants on Yelp, the client believes that most above average restaurants have a price point of \\$$. They are considering increasing their prices from \\$ to \\$$ to match the majority of above average restaurants, and would like you to find the most common price point for above average restaurants in New York City.**"
   ]
  },
  {
   "cell_type": "markdown",
   "id": "52d60084",
   "metadata": {},
   "source": [
    "The 'price' variable in the dataset is a string of dollar signs indicating how expensive a restaurant's price point is. \n",
    "\n",
    "This claim will be reviewed through a series a steps (a-c) before an observation is made. \n",
    "We will calculate the price point frequencies for the above and below average rated restaurants then isolate the review count for each group before applying central tendency statistics. We will interpret a bar chart and observe how the visualisation relate to the client's claims."
   ]
  },
  {
   "cell_type": "markdown",
   "id": "ceca5e4f",
   "metadata": {},
   "source": [
    "## a) Calculate the price point frequencies for the 'above_average' dataset."
   ]
  },
  {
   "cell_type": "code",
   "execution_count": 10,
   "id": "verbal-peripheral",
   "metadata": {},
   "outputs": [
    {
     "name": "stdout",
     "output_type": "stream",
     "text": [
      "Number of Restaurtants at each price point: {'\\\\$': 74, '\\\\$\\\\$': 87, 'Unknown': 134, '\\\\$\\\\$\\\\$': 10, '\\\\$\\\\$\\\\$\\\\$': 1}\n",
      "The price points for the above average restaurants are: dict_keys(['\\\\$', '\\\\$\\\\$', 'Unknown', '\\\\$\\\\$\\\\$', '\\\\$\\\\$\\\\$\\\\$'])\n",
      "Check: 306\n"
     ]
    }
   ],
   "source": [
    "# Write a for loop that counts how frequently a given price point appears for the 'above_average' dataset.\n",
    "\n",
    "# Create an empty dictionary to store the counts for each price point\n",
    "abv_avg_prices = {}\n",
    "\n",
    "# Loop over the above average restaurants\n",
    "for i in range(len(above_average)):\n",
    "    # Isolate the price point for the restuarant\n",
    "    above_average[i]['price']\n",
    "    # Check if the price point has been added to the dictionary\n",
    "    if above_average[i]['price'] in abv_avg_prices:\n",
    "    \n",
    "            # If the price point is already a key in the dictionary\n",
    "            # Add one to the count for that price point\n",
    "            abv_avg_prices[above_average[i]['price']] += 1\n",
    "\n",
    "    # If the price point has not been added to the dictionary\n",
    "    # Else set the price as the key and the value as the integer `1`\n",
    "    else:\n",
    "        abv_avg_prices[above_average[i]['price']] = 1\n",
    "\n",
    "print(\"Number of Restaurtants at each price point:\",abv_avg_prices)\n",
    "print(\"The price points for the above average restaurants are:\",abv_avg_prices.keys())\n",
    "print(\"Check:\",sum(abv_avg_prices.values()))\n",
    "#print(abv_avg_prices.items())"
   ]
  },
  {
   "cell_type": "markdown",
   "id": "governing-resistance",
   "metadata": {},
   "source": [
    "## b) Calculate the price point frequencies for the 'below_average' dataset."
   ]
  },
  {
   "cell_type": "code",
   "execution_count": 11,
   "id": "banner-reward",
   "metadata": {},
   "outputs": [
    {
     "name": "stdout",
     "output_type": "stream",
     "text": [
      "Number of Restaurtants at each price point: {'\\\\$\\\\$': 88, '\\\\$': 128, 'Unknown': 19, '\\\\$\\\\$\\\\$': 12}\n",
      "The price points for the below average restaurants are: dict_keys(['\\\\$\\\\$', '\\\\$', 'Unknown', '\\\\$\\\\$\\\\$'])\n",
      "Check: 247\n"
     ]
    }
   ],
   "source": [
    "# Create an empty dictionary to store the counts for each price point\n",
    "blw_avg_prices = {}\n",
    "\n",
    "# Loop over the below average restaurants\n",
    "for i in range(len(below_average)):\n",
    "\n",
    "    # Isolate( the price point for the restuarant\n",
    "    below_average[i]['price']\n",
    "    # Check if the price point has been added to the dictionary\n",
    "    if below_average[i]['price'] in blw_avg_prices:\n",
    "    \n",
    "            # If the price point is already a key in the dictionary\n",
    "            # Add one to the count for that price point\n",
    "            blw_avg_prices[below_average[i]['price']] += 1\n",
    "\n",
    "    # If the price point has not been added to the dictionary\n",
    "    # Else set the price point as the key and the value as the integer `1`\n",
    "    else:\n",
    "        blw_avg_prices[below_average[i]['price']] = 1\n",
    "\n",
    "print(\"Number of Restaurtants at each price point:\",blw_avg_prices)\n",
    "print(\"The price points for the below average restaurants are:\",blw_avg_prices.keys())\n",
    "print(\"Check:\",sum(blw_avg_prices.values()))\n",
    "#print(blw_avg_prices.items())"
   ]
  },
  {
   "cell_type": "markdown",
   "id": "departmental-attitude",
   "metadata": {},
   "source": [
    "## c) Create a bar showing the frequency of restaurants at each price point"
   ]
  },
  {
   "cell_type": "code",
   "execution_count": 12,
   "id": "seeing-extension",
   "metadata": {},
   "outputs": [
    {
     "name": "stdout",
     "output_type": "stream",
     "text": [
      "ABOVE AVERAGE\n",
      "Sorted keys above avg: dict_items([('Unknown', 134), ('\\\\$', 74), ('\\\\$\\\\$', 87), ('\\\\$\\\\$\\\\$', 10), ('\\\\$\\\\$\\\\$\\\\$', 1)])\n",
      "Above average price points: dict_keys(['Unknown', '\\\\$', '\\\\$\\\\$', '\\\\$\\\\$\\\\$', '\\\\$\\\\$\\\\$\\\\$'])\n",
      "Above average frequency: dict_values([134, 74, 87, 10, 1])\n",
      "Check: 306 \n",
      " \n",
      "\n",
      "BELOW AVERAGE\n",
      "Sorted keys below avg: dict_items([('Unknown', 19), ('\\\\$', 128), ('\\\\$\\\\$', 88), ('\\\\$\\\\$\\\\$', 12)])\n",
      "Below average price points: dict_keys(['Unknown', '\\\\$', '\\\\$\\\\$', '\\\\$\\\\$\\\\$'])\n",
      "Below average frequency: dict_values([19, 128, 88, 12])\n",
      "Check: 247\n"
     ]
    },
    {
     "data": {
      "image/png": "[encoded data removed]",
      "text/plain": [
       "<Figure size 1080x432 with 2 Axes>"
      ]
     },
     "metadata": {
      "needs_background": "light"
     },
     "output_type": "display_data"
    }
   ],
   "source": [
    "# Create a matplotlib subplot with 1 row and 2 columns\n",
    "import numpy as np\n",
    "fig, ax = plt.subplots(figsize = (15,6),nrows = 1, ncols = 2)\n",
    "\n",
    "#Above Average \n",
    "print('ABOVE AVERAGE')\n",
    "#Sort the dictionary items by key (price points)\n",
    "abv_avg_prices.items()\n",
    "abv_avg_prices_sorted = {key: value for key, value in sorted(abv_avg_prices.items())} \n",
    "print('Sorted keys above avg:',abv_avg_prices_sorted.items())\n",
    "\n",
    "# Isolate keys of the above average price count dictionary\n",
    "# This will be the x-axis (price points)\n",
    "print('Above average price points:',abv_avg_prices_sorted.keys())\n",
    "abv_x = abv_avg_prices_sorted.keys()\n",
    "\n",
    "# Isolate the values of the above average price count dictionary\n",
    "# This will be the y-axis (price point frequency)\n",
    "print('Above average frequency:',abv_avg_prices_sorted.values())\n",
    "print('Check:',sum(abv_avg_prices_sorted.values()),'\\n','\\n')\n",
    "abv_y = abv_avg_prices_sorted.values()\n",
    "\n",
    "# Plot the above average price counts as a bar plot on the first axis\n",
    "ax[0].bar(abv_x,abv_y, edgecolor = 'black',color = 'orange')\n",
    "\n",
    "ax[0].set_title(\"Above Average\", weight = 'bold', size = 20)\n",
    "ax[0].set_xlabel('Restaurant price point', size = 15);\n",
    "ax[0].set_ylabel('frequency', size = 15);\n",
    "\n",
    "#Below average\n",
    "print('BELOW AVERAGE')\n",
    "#Sort the dictionary items by key (by price point)\n",
    "blw_avg_prices.items()\n",
    "blw_avg_prices_sorted = {key: value for key, value in sorted(blw_avg_prices.items())} \n",
    "print('Sorted keys below avg:',blw_avg_prices_sorted.items())\n",
    "\n",
    "# Isolate keys of the below average price count dictionary\n",
    "# This will be the x-axis (price point)\n",
    "print('Below average price points:', blw_avg_prices_sorted.keys())\n",
    "blw_x = blw_avg_prices_sorted.keys()\n",
    "\n",
    "# Isolate the values of the below average price count dictionary\n",
    "# This will be the y-axis (frequency)\n",
    "print('Below average frequency:',blw_avg_prices_sorted.values())\n",
    "print('Check:',sum(blw_avg_prices_sorted.values()))\n",
    "blw_y = blw_avg_prices_sorted.values()\n",
    "\n",
    "# Plot the below average price point counts as a bar plot on the second axis\n",
    "ax[1].bar(blw_x,blw_y,edgecolor = 'black',color = 'teal')\n",
    "\n",
    "ax[1].set_title(\"Below Average\",weight = 'bold', size = 20)\n",
    "ax[1].set_xlabel('Restaurant price point', size = 15)\n",
    "ax[1].set_ylabel('frequency', size = 15);"
   ]
  },
  {
   "cell_type": "markdown",
   "id": "descending-attribute",
   "metadata": {},
   "source": [
    "## Observation 3: Above average restaurant price points"
   ]
  },
  {
   "cell_type": "markdown",
   "id": "69901c0c",
   "metadata": {},
   "source": [
    "Looking at the above average restaurants (plot 1), the majority of restaurants with known price points, have a price point of \\$$ (87 restaurants, which represents 28.4\\% of this dataset). This would appear to concur with the client claims. However, this needs to be qualified!! The largest number of above average rated restaurants have indeed an unknown price point (43.7\\% of these restaurants have an unknown price point). Missing data, for whatever reason here, can skew the findings and the validity of any result. Two clear options could be to impute the data (perhaps using a central tendancy measure) or remove the data. I question any of these options are there is a large portion of missing data for any option to produce a reliable result. \n",
    "\n",
    "It is worth noting that below average rated restaurants have $\\$$ as a most frequent price point (51.8\\% of observations), though a price point of \\$$ is not insignificant (35.6\\% of below average rated restaurants). Intrepeting this dataset is less abstract as only 19 restaurants have an unknown price point (7.6\\% of the dataset).\n",
    "\n",
    "There is no overwhelming evidence to suggest that the majority of above average restaurants charge \\$$, there are too many unknown price points for the above average rated restaurants. \n",
    "There is nothing to indicate that price points and ratings are correlated, which may imply success, as we see above (plot 2) there are a significant number of below average restaurants which charge \\$$."
   ]
  },
  {
   "cell_type": "markdown",
   "id": "65d9e3d4",
   "metadata": {},
   "source": [
    "# Topic 4: Analyze restaurant location"
   ]
  },
  {
   "cell_type": "markdown",
   "id": "c84027c7",
   "metadata": {},
   "source": [
    "**Claim 4. In terms of location the client has been told that above average restaurants are usually further east and below average are usually further west, but that the biggest difference is whether the restaurant is on the north or south side. The client would like you to determine if the data supports this claim.**"
   ]
  },
  {
   "cell_type": "markdown",
   "id": "occupied-westminster",
   "metadata": {},
   "source": [
    "We will use the 'isolate_values' function to isolate longitude and latitude for both above and below average restaurants.\n",
    "\n",
    "Note: The further north the higher the latitude. The further east the less negative the longitude. This makes it easier to visualise the scatter plot.\n",
    "\n",
    "This claim will be reviewed through a series a steps (a-c) before an observation is made. \n",
    "We will plot the longitude & latitude of all New York restaurants (above and below dataset) in the same scatter chart), removing an outlier in the data for ease of intrepetation and visualising."
   ]
  },
  {
   "cell_type": "markdown",
   "id": "0c4c1f30",
   "metadata": {},
   "source": [
    "## a) Plot the longitude & latitude of the New York restaurants"
   ]
  },
  {
   "cell_type": "code",
   "execution_count": 13,
   "id": "maritime-comparative",
   "metadata": {
    "scrolled": true
   },
   "outputs": [
    {
     "data": {
      "image/png": "[encoded data removed]",
      "text/plain": [
       "<Figure size 1080x360 with 1 Axes>"
      ]
     },
     "metadata": {
      "needs_background": "light"
     },
     "output_type": "display_data"
    }
   ],
   "source": [
    "#Above Average \n",
    "# Isolate longitude for above average restaurants\n",
    "abv_avg_lon = isolate_values(above_average,'longitude')\n",
    "\n",
    "# Isolate latitude for above average restaurants\n",
    "abv_avg_lat = isolate_values(above_average,'latitude')\n",
    "\n",
    "#Below Average\n",
    "# Isolate longitude for below average restaurants\n",
    "blw_avg_lon = isolate_values(below_average,'longitude')\n",
    "\n",
    "# Isolate latitude for below average restaurants\n",
    "blw_avg_lat = isolate_values(below_average,'latitude')\n",
    " \n",
    "plt.figure(figsize=(15,5))\n",
    "plt.scatter(abv_avg_lon, abv_avg_lat, label='Above',color = 'orange')\n",
    "plt.scatter(blw_avg_lon, blw_avg_lat, label='Below', color = 'teal')\n",
    "plt.legend(loc=2)\n",
    "plt.xlabel(\"Longitude (W-E)\", size=15)\n",
    "plt.ylabel('Latitude (N-S)',size=15)\n",
    "plt.title(\"longitude & latitude of New York pizza restaurants\", size=20, weight = 'bold',color = 'black');"
   ]
  },
  {
   "cell_type": "markdown",
   "id": "intensive-palestine",
   "metadata": {},
   "source": [
    "## b) Remove the outlier (better visualise and intrepret the graph)\n",
    "\n",
    "There is one restaurant in the above average dataset with a location dramatically west and south of all other observations. Let's remove that restaurant from the above average dataset and regenerate the scatter plot."
   ]
  },
  {
   "cell_type": "code",
   "execution_count": 14,
   "id": "rocky-wrong",
   "metadata": {},
   "outputs": [
    {
     "name": "stdout",
     "output_type": "stream",
     "text": [
      "Outlier removed: dict_items([('name', 'New York Pizza'), ('longitude', -97.753939), ('latitude', 31.086427)])\n"
     ]
    }
   ],
   "source": [
    "# Create an empty list that will contain data with the outlier removed\n",
    "no_outliers = [] # list, however, we need make a list of dictionaries to use the isolate_values function\n",
    "\n",
    "# Create an empty list to append the outlier\n",
    "outlier = []\n",
    "# Loop over every restaurant in the above average dataset\n",
    "for i in range(len(above_average)):   \n",
    "    \n",
    "    # Isolate the restaurant's longitude\n",
    "    abv_avg_lon = isolate_values(above_average,'longitude')\n",
    "    abv_avg_lat = isolate_values(above_average,'latitude')\n",
    "    abv_avg_name = isolate_values(above_average,'name')\n",
    "    \n",
    "    # Check if the longitude value is greater than the integer -90\n",
    "    if abv_avg_lon[i] > float(-90.00):\n",
    "        {\"name\":abv_avg_name[i],\"longitude\":abv_avg_lon[i],\"latitude\":abv_avg_lat[i]}\n",
    "        no_outliers.append({\"name\":abv_avg_name[i],\"longitude\":abv_avg_lon[i],\"latitude\":abv_avg_lat[i]}) \n",
    "        \n",
    "    # If longitude is less than -90 it is an outlier and should be appended to the outlier list\n",
    "    else:\n",
    "        outlier.append({\"name\":abv_avg_name[i],\"longitude\":abv_avg_lon[i],\"latitude\":abv_avg_lat[i]})\n",
    "\n",
    "print(\"Outlier removed:\", outlier[0].items())\n",
    "\n",
    "#Check only one outlier removed - If the below cell runs without throwing an error, code is likely correct\n",
    "assert len(no_outliers) == len(above_average) - 1\n",
    "assert len(outlier) == 1"
   ]
  },
  {
   "cell_type": "markdown",
   "id": "colored-retreat",
   "metadata": {},
   "source": [
    "Lets regenerate the longitude and latitude scatter plot for the restaurants using the the no_outliers dataset."
   ]
  },
  {
   "cell_type": "code",
   "execution_count": 15,
   "id": "black-tunnel",
   "metadata": {},
   "outputs": [
    {
     "data": {
      "image/png": "[encoded data removed]",
      "text/plain": [
       "<Figure size 1080x432 with 1 Axes>"
      ]
     },
     "metadata": {
      "needs_background": "light"
     },
     "output_type": "display_data"
    }
   ],
   "source": [
    "abv_avg_lon_no_out= isolate_values(no_outliers,'longitude')\n",
    "abv_avg_lat_no_out = isolate_values(no_outliers,'latitude')\n",
    "\n",
    "plt.figure(figsize=(15,6))\n",
    "plt.scatter(abv_avg_lon_no_out, abv_avg_lat_no_out, label='Above', color ='orange')\n",
    "plt.scatter(blw_avg_lon, blw_avg_lat, label='Below', color = 'teal')\n",
    "plt.legend(loc=2)\n",
    "plt.xlabel(\"Longitude (W-E)\", size=15)\n",
    "plt.ylabel('Latitude (N-S)',size=15)\n",
    "plt.title(\"longitude & latitude of New York pizza restaurants - outlier removed\", size=20);"
   ]
  },
  {
   "cell_type": "markdown",
   "id": "assured-darkness",
   "metadata": {},
   "source": [
    "This is much more interesting. "
   ]
  },
  {
   "cell_type": "markdown",
   "id": "everyday-president",
   "metadata": {},
   "source": [
    "## c) Plot the distribution of longitude and latitude\n",
    "\n",
    "To get a better sense about how longitude and latitude are working, we plot histograms for longitude and latitude."
   ]
  },
  {
   "cell_type": "code",
   "execution_count": 16,
   "id": "empirical-contract",
   "metadata": {},
   "outputs": [
    {
     "data": {
      "image/png": "[encoded data removed]",
      "text/plain": [
       "<Figure size 1080x432 with 2 Axes>"
      ]
     },
     "metadata": {
      "needs_background": "light"
     },
     "output_type": "display_data"
    }
   ],
   "source": [
    "# Create a matplotlib subplot with 1 row and 2 columns\n",
    "fig, ax = plt.subplots(figsize = (15,6), nrows =1, ncols = 2)\n",
    "fig.suptitle('longitude & latitude - above & below average rating of restaurants', size = 20, weight = 'bold',color = 'black', alpha = 0.8)\n",
    "\n",
    "# FIRST SUBPLOT - Longitude\n",
    "# Plot a histogram of above and below average longitude on the first subplot axis.\n",
    "ax[0].hist(abv_avg_lon_no_out, bins=300, color='orange', alpha = 0.6)\n",
    "ax[0].hist(blw_avg_lon, bins=300, color='teal', alpha = 0.6)\n",
    "ax[0].legend([\"Above\",\"Below\"], loc = 2)\n",
    "\n",
    "ax[0].set_title(\"Longitude\",weight = 'bold', size = 20, color = \"grey\", alpha = 0.9)\n",
    "ax[0].set_xlabel('Longitude (W-E)', size = 15)\n",
    "ax[0].set_ylabel('frequency', size = 15)\n",
    "\n",
    "# SECOND SUBPLOT - Latitude\n",
    "# Plot a histogram of above and below average latitude on the second subplot axis. \n",
    "ax[1].hist(abv_avg_lat_no_out, bins=300, color = 'orange',alpha = 0.6)\n",
    "ax[1].hist(blw_avg_lat, bins=300, color = 'teal', alpha = 0.6)\n",
    "ax[1].legend([\"Above\",\"Below\"], loc = 2)\n",
    "\n",
    "ax[1].set_title(\"Latitude\",weight = 'bold', size = 20, color = \"grey\", alpha = 0.9)\n",
    "ax[1].set_xlabel('Latitude (N-S)', size = 15)\n",
    "ax[1].set_ylabel('frequency', size = 15);\n"
   ]
  },
  {
   "cell_type": "markdown",
   "id": "durable-royalty",
   "metadata": {},
   "source": [
    "## Observation 4: Do the location coordinates of a restaurant make a difference?"
   ]
  },
  {
   "cell_type": "markdown",
   "id": "optimum-american",
   "metadata": {},
   "source": [
    "First look at the histogram plots show all longitude/latitude for above/below average ratings to be normal distributions. While there are a few oultiers it does not appear to impact the distributions significantly. The histograms appear to overlay one another which would signify that there is no clear location of a restaurant, north,south,east or west with regards to an above or below rated restaurant. The statistics in the section below demonstrate how the points of central tendancy are not signifcantly different for above & below rated restaurants and the standard devaition measures are small, indicating a tight fit of values around the means.\n",
    "\n",
    "There appears to be slightly skewed to the right in the longitude (ie more east located) but this is the same for both below & above average rated restaurants and the statistics slightly confirm this (mode -74.35/8 vs median, -73.98 ,mean -73.96/7). A large section of the histogram appears overlapping.\n",
    "\n",
    "The latitude chart visually appears to be more normally distributed and not making it obvious that above average rating restaurants are located more north than below average rated.\n",
    "\n",
    "Data does not appear to support the clients thesis."
   ]
  },
  {
   "cell_type": "code",
   "execution_count": 17,
   "id": "45ccee07",
   "metadata": {},
   "outputs": [],
   "source": [
    "# Statistics supporting above observation, which relate to the longitude/latitude histograms\n",
    "aalon = np.array(abv_avg_lon_no_out) # above average longitude\n",
    "balon = np.array(blw_avg_lon) # below average longitude\n",
    "aalat = np.array(abv_avg_lat_no_out) # above average latitude\n",
    "balat = np.array(blw_avg_lat) # below average latitude\n",
    "\n",
    "amean = None\n",
    "def amean(x):\n",
    "    amean=np.mean(np.array(x))\n",
    "    return amean\n",
    "\n",
    "#amean(aalon) #-73.96787728751275\n",
    "#amean(balon) #-73.97721755217\n",
    "#amean(aalat) #40.725443617013994\n",
    "#amean(balat) #40.72914576917321\n",
    "\n",
    "amedian = None\n",
    "def amedian(x):\n",
    "    amedian=np.median(x)\n",
    "    return amedian\n",
    "\n",
    "#amedian(aalon) #-73.98117\n",
    "#amedian(balon) #-73.9841299\n",
    "#amedian(aalat) #40.7256746906384\n",
    "#amedian(balat) #40.72815   \n",
    "\n",
    "amode = None\n",
    "def amode(x):\n",
    "    values,counts = np.unique(x,return_counts=True)\n",
    "    index = np.argmax(counts)\n",
    "    amode = values[index]\n",
    "    return amode\n",
    "\n",
    "#amode(aalon) #-74.35702\n",
    "#amode(balon) #-74.382549\n",
    "#amode(aalat) #40.4038495\n",
    "#amode(balat) #40.57641   \n",
    "\n",
    "astd = None\n",
    "def astd(x):\n",
    "    astd=np.std(x)\n",
    "    return astd\n",
    "\n",
    "#astd(aalon) #0.06258590656284208\n",
    "#astd(balon) #0.046680478359237096\n",
    "#astd(aalat) #0.05444883535835187\n",
    "#astd(balat) #0.039999382957192825 \n",
    "\n",
    "aiqr = None\n",
    "def aiqr(x):\n",
    "    q1,q3 = np.percentile(x,[25,75])\n",
    "    aiqr= (q3- q1)\n",
    "    return aiqr\n",
    "\n",
    "#aiqr(aalon) #0.05127110000000812\n",
    "#aiqr(balon) #0.0380608344258917\n",
    "#aiqr(aalat) #0.054500000000004434\n",
    "#aiqr(balat) #0.044149018443796706"
   ]
  },
  {
   "cell_type": "markdown",
   "id": "extra-lithuania",
   "metadata": {},
   "source": [
    "# Topic 5:  Most recurrent zip code for above average restaurants - is it '10012'?"
   ]
  },
  {
   "cell_type": "markdown",
   "id": "27edd582",
   "metadata": {},
   "source": [
    "**Claim 5: The client believes that the '10012' zipcode in New York City is the best place to open a restaurant. They wish to open a restaurant in close proximity to other highly rated restaurants, and they believe '10012' has the most in NYC.**"
   ]
  },
  {
   "cell_type": "markdown",
   "id": "ee0eeb68",
   "metadata": {},
   "source": [
    "This claim will be reviewed through a series a steps (a-c) before an observation is made. We will retrieve the zip code for each above average restaurant and calculate how many restaurants are in each zip code in order to establish the most recurring zip code."
   ]
  },
  {
   "cell_type": "markdown",
   "id": "2843e251",
   "metadata": {},
   "source": [
    "## a) Retrieve each zipcode and calculate the number of restaurants in each zipcode.\n",
    "(This is for above average restaurants only)"
   ]
  },
  {
   "cell_type": "code",
   "execution_count": 18,
   "id": "afraid-appendix",
   "metadata": {},
   "outputs": [
    {
     "name": "stdout",
     "output_type": "stream",
     "text": [
      "Zip codes & the respective number of restaurants in each zip code: {'10012': 10, '11201': 8, '11211': 11, '11209': 4, '10028': 1, '11222': 8, '10014': 13, '10075': 2, '11205': 5, '10013': 9, '11217': 4, '10023': 3, '10009': 9, '10003': 10, '10016': 5, '11102': 1, '10022': 6, '11249': 1, '10010': 1, '10011': 6, '11215': 9, '10006': 2, '11237': 6, '11238': 3, '11218': 2, '10017': 5, '11101': 5, '11226': 4, '10019': 6, '10002': 9, '11231': 5, '10128': 1, '10065': 3, '11104': 3, '10001': 5, '10029': 2, '11221': 3, '76542': 1, '11373': 1, '10018': 6, '10027': 3, '11233': 2, '10032': 1, '07302': 2, '10038': 1, '11103': 3, '11385': 3, '11105': 4, '10004': 2, '10021': 1, '10036': 3, '10030': 1, '11418': 1, '10007': 3, '11207': 2, '10035': 1, '10461': 2, '11220': 1, '07094': 2, '11421': 3, '07020': 1, '07047': 5, '07305': 1, '11050': 1, '11212': 2, '11378': 3, '10454': 1, '11216': 3, '07087': 2, '11219': 2, '07901': 1, '07307': 2, '10270': 1, '11375': 1, '10302': 1, '07732': 1, '11213': 2, '10034': 1, '11379': 2, '10301': 1, '11214': 1, '10458': 3, '11432': 1, '07010': 2, '11694': 1, '07042': 1, '10464': 1, '10112': 1, '11206': 2, '11203': 1, '07002': 1, '11692': 1, '10025': 3, '11224': 1, '11372': 4, '11234': 1, '11561': 1, '10005': 1, '10705': 1, '10305': 1, '10304': 1, '11225': 1, '07304': 1, '11542': 1}\n"
     ]
    }
   ],
   "source": [
    "# Create an empty dictionary. This dictionary will hold the counts for each zipcode\n",
    "abv_avg_zip_cnts = {}\n",
    "\n",
    "# Loop over the above average dataset\n",
    "for i in range(len(above_average)):\n",
    "    \n",
    "    # Isolate the restaurant's zipcode \n",
    "    zip = above_average[i]['location']['zip_code']\n",
    "    \n",
    "    # Check if the zipcode is a key in the dictionary\n",
    "    if zip in abv_avg_zip_cnts:    \n",
    "        \n",
    "        # Add one to the zipcode's value\n",
    "        abv_avg_zip_cnts[zip] += 1\n",
    "    \n",
    "    # If the zipcode is not a key\n",
    "    # add it to the dictionary with a value of 1\n",
    "    else:\n",
    "        abv_avg_zip_cnts[zip] = 1\n",
    "        \n",
    "print('Zip codes & the respective number of restaurants in each zip code:',abv_avg_zip_cnts)"
   ]
  },
  {
   "cell_type": "markdown",
   "id": "comparative-ribbon",
   "metadata": {},
   "source": [
    "## b) Find the zipcode with the highest number of restaurants.\n",
    "\n",
    "Loop over the 'abv_avg_zip_cnts' dictionary and find the zipcode with the largest count."
   ]
  },
  {
   "cell_type": "code",
   "execution_count": 19,
   "id": "27c6cec6",
   "metadata": {},
   "outputs": [
    {
     "name": "stdout",
     "output_type": "stream",
     "text": [
      "Zip code with largest count: ['10014']\n",
      "Most count in this zip code:  [13]\n"
     ]
    }
   ],
   "source": [
    "ZipCode_Keys = list()\n",
    "ZipCode_Values = list()\n",
    "# Iterate over all the items in dictionary to find max value. get the key & respective value\n",
    "for k, v in abv_avg_zip_cnts.items():\n",
    "    itemMaxValue = max(abv_avg_zip_cnts.items(), key=lambda x : x[1])\n",
    "    if v == itemMaxValue[1]:\n",
    "        ZipCode_Keys.append(k)\n",
    "        ZipCode_Values.append(v)\n",
    "print('Zip code with largest count:',ZipCode_Keys)\n",
    "print('Most count in this zip code: ',ZipCode_Values)"
   ]
  },
  {
   "cell_type": "markdown",
   "id": "0ce97e97",
   "metadata": {},
   "source": [
    "Lets go a step further and check out the 10 most popular zipcodes, by number of restaurants. Establish if zip code 10012 is in this list."
   ]
  },
  {
   "cell_type": "code",
   "execution_count": 20,
   "id": "0cbb3eb9",
   "metadata": {},
   "outputs": [
    {
     "name": "stdout",
     "output_type": "stream",
     "text": [
      "zipcodes with the 10 largest counts of above average restaurants\n",
      "10014  : 13  \n",
      "11211  : 11  \n",
      "10012  : 10  \n",
      "10003  : 10  \n",
      "10013  : 9  \n",
      "10009  : 9  \n",
      "11215  : 9  \n",
      "10002  : 9  \n",
      "11201  : 8  \n",
      "11222  : 8  \n"
     ]
    }
   ],
   "source": [
    "# finding zipcodes with the 10 largest counts of above average restaurants\n",
    "from collections import Counter\n",
    "k = Counter(abv_avg_zip_cnts)\n",
    "high = k.most_common(10)\n",
    "print(\"zipcodes with the 10 largest counts of above average restaurants\")\n",
    "for i in high:\n",
    "    print(i[0],\" :\",i[1],\" \")"
   ]
  },
  {
   "cell_type": "markdown",
   "id": "80d0908d",
   "metadata": {},
   "source": [
    "## c) zip code locations for below average restaurants\n",
    "Lets see zip code locations for below average restaurants - does the data tell us anything"
   ]
  },
  {
   "cell_type": "code",
   "execution_count": 21,
   "id": "9875b1a8",
   "metadata": {},
   "outputs": [
    {
     "name": "stdout",
     "output_type": "stream",
     "text": [
      "zipcodes with the 10/11 largest counts of below average restaurants\n",
      "10003  : 14  \n",
      "11201  : 13  \n",
      "10010  : 9  \n",
      "10011  : 8  \n",
      "10002  : 8  \n",
      "10009  : 8  \n",
      "10014  : 8  \n",
      "10013  : 8  \n",
      "11211  : 7  \n",
      "10022  : 7  \n",
      "10012  : 7  \n"
     ]
    }
   ],
   "source": [
    "# Create an empty dictionary. This dictionary will hold the counts for each zip code for below average rated\n",
    "blw_avg_zip_cnts = {}\n",
    "# Loop over the below average dataset\n",
    "for i in range(len(below_average)):\n",
    "    # Isolate the restaurant's zipcode \n",
    "    zip = below_average[i]['location']['zip_code']\n",
    "    # Check if the zipcode is a key in the dictionary\n",
    "    if zip in blw_avg_zip_cnts:    \n",
    "        # Add one to the zipcode's value\n",
    "        blw_avg_zip_cnts[zip] += 1\n",
    "    # If the zipcode is not a key add it to the dictionary with a value of 1\n",
    "    else:\n",
    "        blw_avg_zip_cnts[zip] = 1\n",
    "                        \n",
    "# finding zipcodes with the 10 largest counts of Below average restaurants\n",
    "from collections import Counter\n",
    "k = Counter(blw_avg_zip_cnts)\n",
    "high = k.most_common(11)\n",
    "print(\"zipcodes with the 10/11 largest counts of below average restaurants\")\n",
    "for i in high:\n",
    "    print(i[0],\" :\",i[1],\" \")"
   ]
  },
  {
   "cell_type": "markdown",
   "id": "careful-vegetarian",
   "metadata": {},
   "source": [
    "## Observation 5: How does the most frequent zipcode relate to the client's claims?"
   ]
  },
  {
   "cell_type": "markdown",
   "id": "auburn-division",
   "metadata": {},
   "source": [
    "** Claim 5. \"The client believes that the 10012 zipcode in New York City is the best place to open a restaurant. They wish to open a restaurant in close proximity to other highly rated restaurants, and they believe 10012 has the most in NYC.\"\n",
    "\n",
    "The findings show that zip_code 10014 has the majority of above average restaurants (with a count of 13), while zip_code 10012 is still relativey popular (a count of 10) - above you can see it is the 3rd largest zipcode count when looking at above average restaurants. From the 306 above average ratings there are still 104 zipcodes included in this above ratings. It may be worth giving consideration to zipcode 10012 as 14\\% (44 restaurants) of the above average restaurants are in 4 main zipcodes.\n",
    "\n",
    "Further consideration should also be given to the location of below average restaurant ratings - are they situated in the zipcode 10014?. Yes there are 8 restaurants (out of 247) in this zip code which ranks Joint 4th most popular zip code of below average restaurants. How about zip code 10012 ? There are 7 below average restaurants in this zipcode - Joint 9th on the zip code count. There is a lot of cross over in zip codes between both above and below average datasets, which are in the top 10 locations."
   ]
  },
  {
   "cell_type": "markdown",
   "id": "brave-venture",
   "metadata": {},
   "source": [
    "# Overall Observations from the analysis"
   ]
  },
  {
   "cell_type": "markdown",
   "id": "9a095d92",
   "metadata": {},
   "source": [
    "According to the data provided, the average rating for New York is 4, with the typical rating being between 3.5 to 4.5. If the client were considering to participate in the New York market, their rating would need to be higher than a 3, where 3 was the average for other cities.\n",
    "\n",
    "There was no conclusive evidence that more review counts lead to higher average ratings, in fact below average rated restaurants tended to be reviewed more frequently - perhaps this is typical human behaviour where people over amplify on the negative side.\n",
    "\n",
    "There was no solid conclusion when looking at certain price points for the restaurants. There was a significant lack of data for many of the restaurants price points, which would make it really hard to infer or exclude data points. While price point \\$$ was most frequent for above average restaurants, the significant amount of missing data was too significant to be able to conclude with a reliable result.\n",
    "It is worth noting that below average rated restaurants have \\$ as a most frequesnt price point (51.8% of observations), though a price point of \\$$ is not insignificant (35.6\\% of below average rated restaurants).\n",
    "\n",
    "Data suggested that longitude ot latitude of the restaurant did not determine success. Data primarily suggested that location tended to be mean orientated.\n",
    "\n",
    "Related to the point above, the zip code of most frequent above average rating was 10014 and not the location of 10012, which the client suggested. It should be noted that zipcode 10012 had the joint 3rd most popular zipcode of above average restaurants.  We should acknowledge that the location of the above average rated restaurants were many (104 zipcodes in total). It is finally worth bearing in mind that these top zip codes also had a generous quantity of below average rated restaurants.\n",
    "\n",
    "The client should consider whether there were other factors involved in the success of a restaurant. Does the rating determine success - this is not concluded by pricing, review counts or location?"
   ]
  }
 ],
 "metadata": {
  "kernelspec": {
   "display_name": "Python 3 (ipykernel)",
   "language": "python",
   "name": "python3"
  },
  "language_info": {
   "codemirror_mode": {
    "name": "ipython",
    "version": 3
   },
   "file_extension": ".py",
   "mimetype": "text/x-python",
   "name": "python",
   "nbconvert_exporter": "python",
   "pygments_lexer": "ipython3",
   "version": "3.9.7"
  }
 },
 "nbformat": 4,
 "nbformat_minor": 5
}
