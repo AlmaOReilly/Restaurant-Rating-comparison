{
 "cells": [
  {
   "cell_type": "markdown",
   "metadata": {
    "index": 0
   },
   "source": [
    "# Project: LEGO Pricing Regression"
   ]
  },
  {
   "cell_type": "markdown",
   "metadata": {
    "index": 2
   },
   "source": [
    "This project was an assignment whilst participating in Data analytics: Elevate course offered by the education institution, Academy Xi. This project applies knowledge of writing SQL query, python and various libraries ( pandas, numpy, matplotlib, sklearn, seaborn, skipy, statsmodels).\n",
    "\n",
    "**Files**\n",
    " - 'legos.db' is an sql database containing over 700 Lego sets released in the past, including attributes of those sets.\n",
    " - 'LegoPricingGH.ipynb'is a jupyter notebook containing the code.\n",
    " \n",
    "### Data\n",
    "The data is an sql database containing over 700 LEGO sets released in the past, including attributes of those sets as well as their prices.\n",
    "The data will be used in its entirety as a training dataset and will not be split into two subsets for training & testing.\n",
    "We do not worry about inflation or differences in currency; just predict the same kinds of prices as are present in the past data, which have already been converted to USD.\n",
    "\n",
    "### Business Understanding\n",
    "This project is to develop a pricing algorithm in order to analyze the value of individual lego pieces.\n",
    "\n",
    "The primary purpose of this algorithm is *inferential*, meaning that **the model should be able to tell us something about the relationship between the attributes of a LEGO set and its price**. \n",
    "\n",
    "\n",
    "### Analysis Requirements\n",
    "#### 1. Data Exploration and Cleaning\n",
    "During the data exploration phase, the datatypes of columns should be checked, the distribution of the target variable should be inspected, null values should be either removed or replaced, and duplicates (in most cases)  should be dropped. \n",
    "#### 2. Create a Baseline Model\n",
    "In order to evaluate how well a simple linear regression model is, is understanding the dependent variable. We will begin by first creating a model that predicts the mean of the dependent variable for every observation. Predicting the mean of 'list_price' can be considered a highly naive model. If our simple linear regression model performs worse than this naive approach, we can safely say that it is not a very good model. \n",
    "#### 3. Interpret a Correlation Heatmap\n",
    "To develop a simple linear regression model, we will identify the independent variable that is most correlated with the dependent variable. To do this this we will plot a correlation heatmap to identify the variable most correlated with 'list_price'.\n",
    "#### 4. Build a Simple Linear Regression Model\n",
    "Now, create a linear regression model using the 'statsmodels' library where the most correlated feature is used as the independent variable and the dependent variable is properly set. \n",
    "#### 5. Interpret the Simple Linear Regression Model\n",
    "Once the model has been fit, the coefficient for our independent variable, its p-value, and the coefficient confidence interval should be interpeted.  We should ask ourselves whether or not the relationship in the model seems plausible. \n",
    "#### 6. Evaluate the Simple Linear Regression Model\n",
    "Before we can make a final assessment of the model, we need to compare its metrics with the baseline model created in step one, and we will need to check the assumptions of linear regression."
   ]
  },
  {
   "cell_type": "markdown",
   "metadata": {},
   "source": [
    "# Precursor: Load the Data"
   ]
  },
  {
   "cell_type": "markdown",
   "metadata": {},
   "source": [
    "The entity relational diagram (E.R.D) for the legos database is displayed here![Entity Relational Diagram](erd.png) "
   ]
  },
  {
   "cell_type": "code",
   "execution_count": 37,
   "metadata": {
    "index": 3
   },
   "outputs": [],
   "source": [
    "# import python libraries\n",
    "import sqlite3 #RDBMS\n",
    "import pandas as pd  # data analysis\n",
    "import matplotlib.pyplot as plt #visualisations in Python\n",
    "%matplotlib inline"
   ]
  },
  {
   "cell_type": "code",
   "execution_count": 38,
   "metadata": {
    "index": 5
   },
   "outputs": [],
   "source": [
    "#Open up a connection to the legos database\n",
    "#Write an sql query to join all three tables together\n",
    "#Run the sql query and load the joined tables into a pandas dataframe\n",
    "\n",
    "conn = sqlite3.connect('legos.db')\n",
    "\n",
    "sql_query = \"\"\"\n",
    "SELECT *\n",
    "FROM difficulty\n",
    "JOIN product_info\n",
    "    USING([Prod Id])\n",
    "JOIN metrics\n",
    "    USING([Prod Id]);\n",
    "    \"\"\"\n",
    "df = pd.read_sql(sql_query,conn)"
   ]
  },
  {
   "cell_type": "markdown",
   "metadata": {
    "index": 8
   },
   "source": [
    "# 1. Data Exploration and Cleaning\n",
    "\n",
    "**Analysis requirements: During the data exploration phase, the datatypes of columns should be checked, the distribution of the target variable should be inspected, null values should be either removed or replaced, and duplicates (in most cases)should be dropped.**\n",
    "\n",
    "We will break this section into small subsections (a-f)."
   ]
  },
  {
   "cell_type": "markdown",
   "metadata": {},
   "source": [
    "## a) Inpsect the dataframe & produce high level descriptive data"
   ]
  },
  {
   "cell_type": "code",
   "execution_count": 39,
   "metadata": {
    "index": 9
   },
   "outputs": [
    {
     "data": {
      "text/html": [
       "<div>\n",
       "<style scoped>\n",
       "    .dataframe tbody tr th:only-of-type {\n",
       "        vertical-align: middle;\n",
       "    }\n",
       "\n",
       "    .dataframe tbody tr th {\n",
       "        vertical-align: top;\n",
       "    }\n",
       "\n",
       "    .dataframe thead th {\n",
       "        text-align: right;\n",
       "    }\n",
       "</style>\n",
       "<table border=\"1\" class=\"dataframe\">\n",
       "  <thead>\n",
       "    <tr style=\"text-align: right;\">\n",
       "      <th></th>\n",
       "      <th>Prod Id</th>\n",
       "      <th>Min Age</th>\n",
       "      <th>Max Age</th>\n",
       "      <th>Difficulty Level</th>\n",
       "      <th>Set Name</th>\n",
       "      <th>Prod Desc</th>\n",
       "      <th>Theme Name</th>\n",
       "      <th>Piece Count</th>\n",
       "      <th>Num Reviews</th>\n",
       "      <th>Star Rating</th>\n",
       "      <th>List Price</th>\n",
       "    </tr>\n",
       "  </thead>\n",
       "  <tbody>\n",
       "    <tr>\n",
       "      <th>0</th>\n",
       "      <td>60123</td>\n",
       "      <td>7.0</td>\n",
       "      <td>12.0</td>\n",
       "      <td>1</td>\n",
       "      <td>Volcano Supply Helicopter</td>\n",
       "      <td>Fly in the exploration gear and fly out the cr...</td>\n",
       "      <td>City</td>\n",
       "      <td>330</td>\n",
       "      <td>3.0</td>\n",
       "      <td>4.3</td>\n",
       "      <td>$49.99</td>\n",
       "    </tr>\n",
       "    <tr>\n",
       "      <th>1</th>\n",
       "      <td>71246</td>\n",
       "      <td>7.0</td>\n",
       "      <td>14.0</td>\n",
       "      <td>1</td>\n",
       "      <td>Adventure Time™ Team Pack</td>\n",
       "      <td>Explore the Land of Ooo with Jake and Lumpy Sp...</td>\n",
       "      <td>DIMENSIONS™</td>\n",
       "      <td>96</td>\n",
       "      <td>3.0</td>\n",
       "      <td>4.7</td>\n",
       "      <td>$30.362</td>\n",
       "    </tr>\n",
       "    <tr>\n",
       "      <th>2</th>\n",
       "      <td>10616</td>\n",
       "      <td>1.5</td>\n",
       "      <td>5.0</td>\n",
       "      <td>1</td>\n",
       "      <td>My First Playhouse</td>\n",
       "      <td>Learn about daily routines with this easy-to-b...</td>\n",
       "      <td>DUPLO®</td>\n",
       "      <td>25</td>\n",
       "      <td>3.0</td>\n",
       "      <td>5.0</td>\n",
       "      <td>$19.99</td>\n",
       "    </tr>\n",
       "    <tr>\n",
       "      <th>3</th>\n",
       "      <td>31079</td>\n",
       "      <td>8.0</td>\n",
       "      <td>12.0</td>\n",
       "      <td>1</td>\n",
       "      <td>Sunshine Surfer Van</td>\n",
       "      <td>Enjoy seaside fun with the 3-in-1 Sunshine Sur...</td>\n",
       "      <td>Creator 3-in-1</td>\n",
       "      <td>379</td>\n",
       "      <td>5.0</td>\n",
       "      <td>4.4</td>\n",
       "      <td>$34.99</td>\n",
       "    </tr>\n",
       "    <tr>\n",
       "      <th>4</th>\n",
       "      <td>42057</td>\n",
       "      <td>8.0</td>\n",
       "      <td>14.0</td>\n",
       "      <td>1</td>\n",
       "      <td>Ultralight Helicopter</td>\n",
       "      <td>Take to the skies with the Ultralight Helicopter!</td>\n",
       "      <td>Technic</td>\n",
       "      <td>199</td>\n",
       "      <td>9.0</td>\n",
       "      <td>4.7</td>\n",
       "      <td>$19.99</td>\n",
       "    </tr>\n",
       "  </tbody>\n",
       "</table>\n",
       "</div>"
      ],
      "text/plain": [
       "   Prod Id  Min Age  Max Age  Difficulty Level                   Set Name  \\\n",
       "0    60123      7.0     12.0                 1  Volcano Supply Helicopter   \n",
       "1    71246      7.0     14.0                 1  Adventure Time™ Team Pack   \n",
       "2    10616      1.5      5.0                 1         My First Playhouse   \n",
       "3    31079      8.0     12.0                 1        Sunshine Surfer Van   \n",
       "4    42057      8.0     14.0                 1      Ultralight Helicopter   \n",
       "\n",
       "                                           Prod Desc      Theme Name  \\\n",
       "0  Fly in the exploration gear and fly out the cr...            City   \n",
       "1  Explore the Land of Ooo with Jake and Lumpy Sp...     DIMENSIONS™   \n",
       "2  Learn about daily routines with this easy-to-b...          DUPLO®   \n",
       "3  Enjoy seaside fun with the 3-in-1 Sunshine Sur...  Creator 3-in-1   \n",
       "4  Take to the skies with the Ultralight Helicopter!         Technic   \n",
       "\n",
       "   Piece Count  Num Reviews  Star Rating List Price  \n",
       "0          330          3.0          4.3     $49.99  \n",
       "1           96          3.0          4.7    $30.362  \n",
       "2           25          3.0          5.0     $19.99  \n",
       "3          379          5.0          4.4     $34.99  \n",
       "4          199          9.0          4.7     $19.99  "
      ]
     },
     "execution_count": 39,
     "metadata": {},
     "output_type": "execute_result"
    }
   ],
   "source": [
    "#output the first five rows.\n",
    "df.head()"
   ]
  },
  {
   "cell_type": "markdown",
   "metadata": {
    "index": 12
   },
   "source": [
    "Produce high-level descriptive information about the data"
   ]
  },
  {
   "cell_type": "code",
   "execution_count": 40,
   "metadata": {},
   "outputs": [
    {
     "data": {
      "text/plain": [
       "(884, 11)"
      ]
     },
     "execution_count": 40,
     "metadata": {},
     "output_type": "execute_result"
    }
   ],
   "source": [
    "df.shape"
   ]
  },
  {
   "cell_type": "code",
   "execution_count": 41,
   "metadata": {},
   "outputs": [
    {
     "data": {
      "text/plain": [
       "Index(['Prod Id', 'Min Age', 'Max Age', 'Difficulty Level', 'Set Name',\n",
       "       'Prod Desc', 'Theme Name', 'Piece Count', 'Num Reviews', 'Star Rating',\n",
       "       'List Price'],\n",
       "      dtype='object')"
      ]
     },
     "execution_count": 41,
     "metadata": {},
     "output_type": "execute_result"
    }
   ],
   "source": [
    "df.columns"
   ]
  },
  {
   "cell_type": "code",
   "execution_count": 42,
   "metadata": {},
   "outputs": [
    {
     "name": "stdout",
     "output_type": "stream",
     "text": [
      "<class 'pandas.core.frame.DataFrame'>\n",
      "RangeIndex: 884 entries, 0 to 883\n",
      "Data columns (total 11 columns):\n",
      " #   Column            Non-Null Count  Dtype  \n",
      "---  ------            --------------  -----  \n",
      " 0   Prod Id           884 non-null    int64  \n",
      " 1   Min Age           884 non-null    float64\n",
      " 2   Max Age           884 non-null    float64\n",
      " 3   Difficulty Level  884 non-null    int64  \n",
      " 4   Set Name          884 non-null    object \n",
      " 5   Prod Desc         864 non-null    object \n",
      " 6   Theme Name        884 non-null    object \n",
      " 7   Piece Count       884 non-null    int64  \n",
      " 8   Num Reviews       781 non-null    float64\n",
      " 9   Star Rating       781 non-null    float64\n",
      " 10  List Price        844 non-null    object \n",
      "dtypes: float64(4), int64(3), object(4)\n",
      "memory usage: 76.1+ KB\n"
     ]
    }
   ],
   "source": [
    "df.info()"
   ]
  },
  {
   "cell_type": "code",
   "execution_count": 43,
   "metadata": {},
   "outputs": [
    {
     "data": {
      "text/html": [
       "<div>\n",
       "<style scoped>\n",
       "    .dataframe tbody tr th:only-of-type {\n",
       "        vertical-align: middle;\n",
       "    }\n",
       "\n",
       "    .dataframe tbody tr th {\n",
       "        vertical-align: top;\n",
       "    }\n",
       "\n",
       "    .dataframe thead th {\n",
       "        text-align: right;\n",
       "    }\n",
       "</style>\n",
       "<table border=\"1\" class=\"dataframe\">\n",
       "  <thead>\n",
       "    <tr style=\"text-align: right;\">\n",
       "      <th></th>\n",
       "      <th>Prod Id</th>\n",
       "      <th>Min Age</th>\n",
       "      <th>Max Age</th>\n",
       "      <th>Difficulty Level</th>\n",
       "      <th>Piece Count</th>\n",
       "      <th>Num Reviews</th>\n",
       "      <th>Star Rating</th>\n",
       "    </tr>\n",
       "  </thead>\n",
       "  <tbody>\n",
       "    <tr>\n",
       "      <th>count</th>\n",
       "      <td>8.840000e+02</td>\n",
       "      <td>884.000000</td>\n",
       "      <td>884.000000</td>\n",
       "      <td>884.000000</td>\n",
       "      <td>884.000000</td>\n",
       "      <td>781.000000</td>\n",
       "      <td>781.000000</td>\n",
       "    </tr>\n",
       "    <tr>\n",
       "      <th>mean</th>\n",
       "      <td>5.821184e+04</td>\n",
       "      <td>6.781674</td>\n",
       "      <td>27.785068</td>\n",
       "      <td>1.483032</td>\n",
       "      <td>460.990950</td>\n",
       "      <td>17.610755</td>\n",
       "      <td>4.430602</td>\n",
       "    </tr>\n",
       "    <tr>\n",
       "      <th>std</th>\n",
       "      <td>1.388029e+05</td>\n",
       "      <td>2.984551</td>\n",
       "      <td>34.019566</td>\n",
       "      <td>0.796898</td>\n",
       "      <td>928.905788</td>\n",
       "      <td>38.143280</td>\n",
       "      <td>0.592083</td>\n",
       "    </tr>\n",
       "    <tr>\n",
       "      <th>min</th>\n",
       "      <td>6.300000e+02</td>\n",
       "      <td>1.500000</td>\n",
       "      <td>3.000000</td>\n",
       "      <td>0.000000</td>\n",
       "      <td>1.000000</td>\n",
       "      <td>1.000000</td>\n",
       "      <td>1.800000</td>\n",
       "    </tr>\n",
       "    <tr>\n",
       "      <th>25%</th>\n",
       "      <td>2.113875e+04</td>\n",
       "      <td>5.000000</td>\n",
       "      <td>12.000000</td>\n",
       "      <td>1.000000</td>\n",
       "      <td>88.750000</td>\n",
       "      <td>2.000000</td>\n",
       "      <td>4.100000</td>\n",
       "    </tr>\n",
       "    <tr>\n",
       "      <th>50%</th>\n",
       "      <td>4.550550e+04</td>\n",
       "      <td>7.000000</td>\n",
       "      <td>14.000000</td>\n",
       "      <td>2.000000</td>\n",
       "      <td>185.500000</td>\n",
       "      <td>6.000000</td>\n",
       "      <td>4.600000</td>\n",
       "    </tr>\n",
       "    <tr>\n",
       "      <th>75%</th>\n",
       "      <td>7.122825e+04</td>\n",
       "      <td>8.000000</td>\n",
       "      <td>14.000000</td>\n",
       "      <td>2.000000</td>\n",
       "      <td>457.750000</td>\n",
       "      <td>13.000000</td>\n",
       "      <td>4.900000</td>\n",
       "    </tr>\n",
       "    <tr>\n",
       "      <th>max</th>\n",
       "      <td>2.000431e+06</td>\n",
       "      <td>16.000000</td>\n",
       "      <td>99.000000</td>\n",
       "      <td>4.000000</td>\n",
       "      <td>7541.000000</td>\n",
       "      <td>367.000000</td>\n",
       "      <td>5.000000</td>\n",
       "    </tr>\n",
       "  </tbody>\n",
       "</table>\n",
       "</div>"
      ],
      "text/plain": [
       "            Prod Id     Min Age     Max Age  Difficulty Level  Piece Count  \\\n",
       "count  8.840000e+02  884.000000  884.000000        884.000000   884.000000   \n",
       "mean   5.821184e+04    6.781674   27.785068          1.483032   460.990950   \n",
       "std    1.388029e+05    2.984551   34.019566          0.796898   928.905788   \n",
       "min    6.300000e+02    1.500000    3.000000          0.000000     1.000000   \n",
       "25%    2.113875e+04    5.000000   12.000000          1.000000    88.750000   \n",
       "50%    4.550550e+04    7.000000   14.000000          2.000000   185.500000   \n",
       "75%    7.122825e+04    8.000000   14.000000          2.000000   457.750000   \n",
       "max    2.000431e+06   16.000000   99.000000          4.000000  7541.000000   \n",
       "\n",
       "       Num Reviews  Star Rating  \n",
       "count   781.000000   781.000000  \n",
       "mean     17.610755     4.430602  \n",
       "std      38.143280     0.592083  \n",
       "min       1.000000     1.800000  \n",
       "25%       2.000000     4.100000  \n",
       "50%       6.000000     4.600000  \n",
       "75%      13.000000     4.900000  \n",
       "max     367.000000     5.000000  "
      ]
     },
     "execution_count": 43,
     "metadata": {},
     "output_type": "execute_result"
    }
   ],
   "source": [
    "df.describe()"
   ]
  },
  {
   "cell_type": "markdown",
   "metadata": {
    "index": 15
   },
   "source": [
    "## b) Null values\n",
    "Display the number of null values for each column"
   ]
  },
  {
   "cell_type": "code",
   "execution_count": 44,
   "metadata": {
    "index": 16
   },
   "outputs": [
    {
     "name": "stdout",
     "output_type": "stream",
     "text": [
      "Columns which have null values \n",
      " Prod Id               0\n",
      "Min Age               0\n",
      "Max Age               0\n",
      "Difficulty Level      0\n",
      "Set Name              0\n",
      "Prod Desc            20\n",
      "Theme Name            0\n",
      "Piece Count           0\n",
      "Num Reviews         103\n",
      "Star Rating         103\n",
      "List Price           40\n",
      "dtype: int64 \n",
      "\n",
      "Count of null values: 266\n"
     ]
    }
   ],
   "source": [
    "print('Columns which have null values',\"\\n\",df.isnull().sum(),'\\n')\n",
    "print('Count of null values:', df.isnull().sum().sum())"
   ]
  },
  {
   "cell_type": "markdown",
   "metadata": {
    "index": 18
   },
   "source": [
    "**Null values exist for our dependent variable**\n",
    "We have four columns that contain null values. Of those four, 'List Price', which is our dependent variable, is probably the most concerning. We can see there are 40 null values in this column.\n",
    "\n",
    "In the cell below, we will drop all rows where List Price is null."
   ]
  },
  {
   "cell_type": "code",
   "execution_count": 45,
   "metadata": {
    "index": 19
   },
   "outputs": [
    {
     "name": "stdout",
     "output_type": "stream",
     "text": [
      "Remaining columns which have null values \n",
      " Prod Id              0\n",
      "Min Age              0\n",
      "Max Age              0\n",
      "Difficulty Level     0\n",
      "Set Name             0\n",
      "Prod Desc           20\n",
      "Theme Name           0\n",
      "Piece Count          0\n",
      "Num Reviews         95\n",
      "Star Rating         95\n",
      "List Price           0\n",
      "dtype: int64 \n",
      "\n",
      "Count of null values (post deleting list 'price nulls'): 210\n"
     ]
    }
   ],
   "source": [
    "df = df.dropna(subset=['List Price'])\n",
    "print('Remaining columns which have null values',\"\\n\",df.isnull().sum(),'\\n')\n",
    "print(\"Count of null values (post deleting list 'price nulls'):\", df.isnull().sum().sum())"
   ]
  },
  {
   "cell_type": "markdown",
   "metadata": {
    "index": 21
   },
   "source": [
    "## c) Reformat column names (for ease)\n",
    "To make things easier moving forward, we will reformat the column names so spaces have been replaced with underscores and the text has been lowered"
   ]
  },
  {
   "cell_type": "code",
   "execution_count": 46,
   "metadata": {
    "index": 22
   },
   "outputs": [
    {
     "name": "stdout",
     "output_type": "stream",
     "text": [
      "Index(['prod_id', 'min_age', 'max_age', 'difficulty_level', 'set_name',\n",
      "       'prod_desc', 'theme_name', 'piece_count', 'num_reviews', 'star_rating',\n",
      "       'list_price'],\n",
      "      dtype='object')\n"
     ]
    }
   ],
   "source": [
    "df.columns = df.columns.str.lower().str.replace(' ', '_')\n",
    "print(df.columns)\n",
    "\n",
    "#Check the reformatting\n",
    "assert 'min_age' in df.columns"
   ]
  },
  {
   "cell_type": "markdown",
   "metadata": {
    "index": 26
   },
   "source": [
    "## d) Datatypes of columns\n",
    "Check the datatypes of the columns in the dataframe. \n",
    "> Remember, the target column and any columns you use as **independent variables *must* have a numeric datatype.** After inspecting the datatypes of the columns, we will need convert columns to numeric where necessary. "
   ]
  },
  {
   "cell_type": "code",
   "execution_count": 47,
   "metadata": {
    "index": 27
   },
   "outputs": [
    {
     "data": {
      "text/plain": [
       "0      49.990\n",
       "1      30.362\n",
       "2      19.990\n",
       "3      34.990\n",
       "4      19.990\n",
       "        ...  \n",
       "877     9.990\n",
       "878     9.990\n",
       "879     9.990\n",
       "880    19.990\n",
       "882    19.990\n",
       "Name: list_price, Length: 844, dtype: float64"
      ]
     },
     "execution_count": 47,
     "metadata": {},
     "output_type": "execute_result"
    }
   ],
   "source": [
    "# convert independent variable into numeric datatype \n",
    "df['list_price'] = df['list_price'].str.replace('$','',regex=True)\n",
    "df['list_price'] = df['list_price'].astype(float, errors = 'ignore')\n",
    "df['list_price'] "
   ]
  },
  {
   "cell_type": "code",
   "execution_count": 12,
   "metadata": {},
   "outputs": [
    {
     "name": "stdout",
     "output_type": "stream",
     "text": [
      "<class 'pandas.core.frame.DataFrame'>\n",
      "Int64Index: 844 entries, 0 to 882\n",
      "Data columns (total 11 columns):\n",
      " #   Column            Non-Null Count  Dtype  \n",
      "---  ------            --------------  -----  \n",
      " 0   prod_id           844 non-null    int64  \n",
      " 1   min_age           844 non-null    float64\n",
      " 2   max_age           844 non-null    float64\n",
      " 3   difficulty_level  844 non-null    int64  \n",
      " 4   set_name          844 non-null    object \n",
      " 5   prod_desc         824 non-null    object \n",
      " 6   theme_name        844 non-null    object \n",
      " 7   piece_count       844 non-null    int64  \n",
      " 8   num_reviews       749 non-null    float64\n",
      " 9   star_rating       749 non-null    float64\n",
      " 10  list_price        844 non-null    float64\n",
      "dtypes: float64(5), int64(3), object(3)\n",
      "memory usage: 79.1+ KB\n"
     ]
    }
   ],
   "source": [
    "# Ensure potential independent variables are numeric datayypes\n",
    "df['min_age'].astype(float)\n",
    "df['max_age'].astype(float)\n",
    "df['difficulty_level'].astype(int)\n",
    "df['piece_count'].astype(int)\n",
    "df['num_reviews'].astype(float)\n",
    "df['star_rating'].astype(float)\n",
    "df.info()"
   ]
  },
  {
   "cell_type": "markdown",
   "metadata": {
    "index": 29
   },
   "source": [
    "## e) Duplicate rows\n",
    "Check the number of duplicate rows in the dataframe. If **duplicates are found, we will drop them.**"
   ]
  },
  {
   "cell_type": "code",
   "execution_count": 13,
   "metadata": {},
   "outputs": [
    {
     "name": "stdout",
     "output_type": "stream",
     "text": [
      "rows*columns: (844, 11)\n",
      "Number of duplicate rows: 100\n"
     ]
    }
   ],
   "source": [
    "print(\"rows*columns:\",df.shape) # Rows in dataframe pre deleting duplicates\n",
    "print(\"Number of duplicate rows:\",df.duplicated().sum())"
   ]
  },
  {
   "cell_type": "code",
   "execution_count": 14,
   "metadata": {
    "index": 30
   },
   "outputs": [
    {
     "name": "stdout",
     "output_type": "stream",
     "text": [
      "Number of rows in dataframe after deleting duplicate rows: 744\n"
     ]
    }
   ],
   "source": [
    "df = df.drop_duplicates()\n",
    "#df.index = range(len(df))\n",
    "print('Number of rows in dataframe after deleting duplicate rows:',len(df))"
   ]
  },
  {
   "cell_type": "markdown",
   "metadata": {
    "index": 32
   },
   "source": [
    "## f) Inspect distribution of the dependent variable\n",
    "Lets visualise the distribution of the dependent variable 'list price'."
   ]
  },
  {
   "cell_type": "code",
   "execution_count": 15,
   "metadata": {
    "index": 33
   },
   "outputs": [
    {
     "data": {
      "image/png": "[encoded data removed]",
      "text/plain": [
       "<Figure size 936x432 with 1 Axes>"
      ]
     },
     "metadata": {
      "needs_background": "light"
     },
     "output_type": "display_data"
    }
   ],
   "source": [
    "fig,ax = plt.subplots(figsize =(13,6))\n",
    "ax.hist(df['list_price'],bins=8,color = 'teal')\n",
    "ax.set_title(\"Distribution of listed prices\", size=20,fontweight='bold')\n",
    "ax.set_xlabel('price listed', size=15)\n",
    "ax.set_ylabel('frequency', size=15)\n",
    "ax.legend(['list price']);"
   ]
  },
  {
   "cell_type": "markdown",
   "metadata": {
    "index": 35
   },
   "source": [
    "# 2. Create a Baseline Model\n",
    "\n",
    "**Analysis requirements: In order to evaluate how well a simple linear regression model is, is understanding the dependent variable. We will begin by first creating a model that predicts the mean of the dependent variable for every observation. Predicting the mean of 'list_price' can be considered a highly naive model. If our simple linear regression model (created in Section 4) performs worse than this naive approach, we can safely say that it is not a very good model.**\n",
    "\n",
    "In order to create a baseline model we complete the following:\n",
    "1. Calculate the mean of the 'list_price' column in the train dataframe.\n",
    "2. Once we've calculated the mean of 'list_price', we create a list with the same length as the 'list_price' column where every value in the list is the calculated mean.list_price. We will store this list in the variable 'baseline_preds'."
   ]
  },
  {
   "cell_type": "code",
   "execution_count": 16,
   "metadata": {
    "index": 36
   },
   "outputs": [
    {
     "name": "stdout",
     "output_type": "stream",
     "text": [
      "Mean of the list_price column in train dataframe: 49.00058198924769\n",
      "length of list_price: 744\n",
      "length of baseline_preds: 744\n"
     ]
    }
   ],
   "source": [
    "# Calculate the mean of the list_price column in the train dataframe.\n",
    "mean = None\n",
    "baseline_preds = None\n",
    "train=df\n",
    "# Calculate the mean of the list_price column in the train dataframe.\n",
    "mean = train['list_price'].mean()\n",
    "print('Mean of the list_price column in train dataframe:',mean)  #49.00058198924769\n",
    "print('length of list_price:',len(train['list_price']))  #744\n",
    "\n",
    "# Create a list with the same length as the list_price column \n",
    "# where every value in the list is the calculated mean.\n",
    "\n",
    "baseline_preds = []\n",
    "for i in range(len(train['list_price'])):\n",
    "    baseline_preds.append(mean)\n",
    "print('length of baseline_preds:',len(baseline_preds))"
   ]
  },
  {
   "cell_type": "markdown",
   "metadata": {
    "index": 38
   },
   "source": [
    "Now that we have baseline predictions, we can use the predictions to calculate **metrics about the model's performance**. "
   ]
  },
  {
   "cell_type": "code",
   "execution_count": 17,
   "metadata": {
    "index": 39
   },
   "outputs": [
    {
     "name": "stdout",
     "output_type": "stream",
     "text": [
      "Baseline R^2:  0.0\n",
      "Baseline RMSE: 73.60214730890442\n",
      "Baseline MSE: 5417.276088481665\n"
     ]
    }
   ],
   "source": [
    "from sklearn.metrics import r2_score, mean_squared_error\n",
    "\n",
    "# Pass the list_price column and the baseline_preds list into the function r2_score\n",
    "baseline_r2 = r2_score(train.list_price, baseline_preds)\n",
    "\n",
    "# Pass the list_price column and the baseline_preds list \n",
    "# into the function mean_squared_error and setting squared to False\n",
    "baseline_rmse = mean_squared_error(train.list_price, baseline_preds, squared=False)\n",
    "baseline_mse = mean_squared_error(train.list_price, baseline_preds, squared=True)\n",
    "print('Baseline R^2: ', baseline_r2)\n",
    "print('Baseline RMSE:', baseline_rmse)\n",
    "print('Baseline MSE:', baseline_mse)\n"
   ]
  },
  {
   "cell_type": "markdown",
   "metadata": {
    "index": 40
   },
   "source": [
    "## Observation 2: Interpret the resulting metrics for the baseline model.\n",
    "- How is the model explaining the variance of the dependent variable?\n",
    "- On average, how many dollars off are the models predictions?"
   ]
  },
  {
   "cell_type": "markdown",
   "metadata": {
    "index": "Placeholder"
   },
   "source": [
    "R^2 or the coefficient of determination generates a score of 0. This value tells you of the goodness of fit of the regression model. Best possible score any model can predict is 1.0. A constant model, which we have here that predicts the expected value of y using the mean as the predictor, disregarding any input features, get a score of 0.0. If we examine a simple graph (below) we are not making any use of an independent x variable to predict a y. This is an extremely poor model.0% of the variation in list price can be explained by baseline_preds.\n",
    "\n",
    "Root Mean Square Error (RMSE) is the standard deviation of the residuals (prediction errors), which is basically a measure of how far from the regression line data points are. RMSE is a measure of how spread out these residuals are. In other words, it tells you how concentrated the data is around the line of best fit. While there is no correct value for RMSE, the lower the better and a zero score means the model is perfect.\n",
    "\n",
    "RMSE has a direct relationship with the correlation coefficient. For example, if the correlation coefficient is 1, the RMSE will be 0, because all of the points lie on the regression line (and therefore there are no errors). The mean as a predictor would not have a strong correlation with the list price. \n",
    "\n",
    "The output value is in the same unit as the dependent variable (USD) so its relatively easy to interpret this number. This means that in general, the model’s predicted listing price is generally about USD73.60 off. This isn't great predictability as the histogram from section 1 shows the majority of lego sets sell in the USD0 to USD100 bracket."
   ]
  },
  {
   "cell_type": "code",
   "execution_count": 18,
   "metadata": {},
   "outputs": [
    {
     "data": {
      "image/png": "[encoded data removed]",
      "text/plain": [
       "<Figure size 1080x432 with 1 Axes>"
      ]
     },
     "metadata": {
      "needs_background": "light"
     },
     "output_type": "display_data"
    }
   ],
   "source": [
    "fig,ax = plt.subplots(figsize=(15,6))\n",
    "ax.plot(baseline_preds)\n",
    "ax.set_title(\"Baseline prediction model - using mean as a model predictor\", size=16,fontweight='bold')\n",
    "ax.set_ylabel(\"Baseline model - mean of price listed\");"
   ]
  },
  {
   "cell_type": "markdown",
   "metadata": {
    "index": 42
   },
   "source": [
    "# 3. Interpret a Correlation Heatmap\n",
    "**Analysis requirements: To develop a simple linear regression model, we will identify the independent variable that is most correlated with the dependent variable. To do this this we will plot a correlation heatmap to identify the variable most correlated with 'list_price'.**\n",
    "\n",
    "We will reviewed this section through a series a steps (a-b) before we make an observation. "
   ]
  },
  {
   "cell_type": "markdown",
   "metadata": {
    "index": 43
   },
   "source": [
    "## a) Correlation heatmap\n",
    "\n",
    "Produce a heatmap showing the correlations between all of the chosen numeric columns in the data. We will be able to observe the correlations between the target/dependent (listing price) and other attributes."
   ]
  },
  {
   "cell_type": "code",
   "execution_count": 19,
   "metadata": {},
   "outputs": [],
   "source": [
    "#Import python liabraries\n",
    "import seaborn as sns # correlation heat map"
   ]
  },
  {
   "cell_type": "code",
   "execution_count": 20,
   "metadata": {
    "index": 45
   },
   "outputs": [
    {
     "data": {
      "text/html": [
       "<div>\n",
       "<style scoped>\n",
       "    .dataframe tbody tr th:only-of-type {\n",
       "        vertical-align: middle;\n",
       "    }\n",
       "\n",
       "    .dataframe tbody tr th {\n",
       "        vertical-align: top;\n",
       "    }\n",
       "\n",
       "    .dataframe thead th {\n",
       "        text-align: right;\n",
       "    }\n",
       "</style>\n",
       "<table border=\"1\" class=\"dataframe\">\n",
       "  <thead>\n",
       "    <tr style=\"text-align: right;\">\n",
       "      <th></th>\n",
       "      <th>prod_id</th>\n",
       "      <th>min_age</th>\n",
       "      <th>max_age</th>\n",
       "      <th>difficulty_level</th>\n",
       "      <th>piece_count</th>\n",
       "      <th>num_reviews</th>\n",
       "      <th>star_rating</th>\n",
       "      <th>list_price</th>\n",
       "    </tr>\n",
       "  </thead>\n",
       "  <tbody>\n",
       "    <tr>\n",
       "      <th>prod_id</th>\n",
       "      <td>1.000000</td>\n",
       "      <td>0.018579</td>\n",
       "      <td>0.138579</td>\n",
       "      <td>-0.040951</td>\n",
       "      <td>0.203015</td>\n",
       "      <td>-0.035542</td>\n",
       "      <td>-0.073840</td>\n",
       "      <td>0.442360</td>\n",
       "    </tr>\n",
       "    <tr>\n",
       "      <th>min_age</th>\n",
       "      <td>0.018579</td>\n",
       "      <td>1.000000</td>\n",
       "      <td>0.546892</td>\n",
       "      <td>0.348324</td>\n",
       "      <td>0.624393</td>\n",
       "      <td>0.524501</td>\n",
       "      <td>0.056721</td>\n",
       "      <td>0.468382</td>\n",
       "    </tr>\n",
       "    <tr>\n",
       "      <th>max_age</th>\n",
       "      <td>0.138579</td>\n",
       "      <td>0.546892</td>\n",
       "      <td>1.000000</td>\n",
       "      <td>0.044568</td>\n",
       "      <td>0.366986</td>\n",
       "      <td>0.364293</td>\n",
       "      <td>0.055510</td>\n",
       "      <td>0.304641</td>\n",
       "    </tr>\n",
       "    <tr>\n",
       "      <th>difficulty_level</th>\n",
       "      <td>-0.040951</td>\n",
       "      <td>0.348324</td>\n",
       "      <td>0.044568</td>\n",
       "      <td>1.000000</td>\n",
       "      <td>0.461439</td>\n",
       "      <td>0.278958</td>\n",
       "      <td>0.092253</td>\n",
       "      <td>0.399360</td>\n",
       "    </tr>\n",
       "    <tr>\n",
       "      <th>piece_count</th>\n",
       "      <td>0.203015</td>\n",
       "      <td>0.624393</td>\n",
       "      <td>0.366986</td>\n",
       "      <td>0.461439</td>\n",
       "      <td>1.000000</td>\n",
       "      <td>0.544933</td>\n",
       "      <td>0.066226</td>\n",
       "      <td>0.861768</td>\n",
       "    </tr>\n",
       "    <tr>\n",
       "      <th>num_reviews</th>\n",
       "      <td>-0.035542</td>\n",
       "      <td>0.524501</td>\n",
       "      <td>0.364293</td>\n",
       "      <td>0.278958</td>\n",
       "      <td>0.544933</td>\n",
       "      <td>1.000000</td>\n",
       "      <td>-0.013999</td>\n",
       "      <td>0.423368</td>\n",
       "    </tr>\n",
       "    <tr>\n",
       "      <th>star_rating</th>\n",
       "      <td>-0.073840</td>\n",
       "      <td>0.056721</td>\n",
       "      <td>0.055510</td>\n",
       "      <td>0.092253</td>\n",
       "      <td>0.066226</td>\n",
       "      <td>-0.013999</td>\n",
       "      <td>1.000000</td>\n",
       "      <td>-0.004307</td>\n",
       "    </tr>\n",
       "    <tr>\n",
       "      <th>list_price</th>\n",
       "      <td>0.442360</td>\n",
       "      <td>0.468382</td>\n",
       "      <td>0.304641</td>\n",
       "      <td>0.399360</td>\n",
       "      <td>0.861768</td>\n",
       "      <td>0.423368</td>\n",
       "      <td>-0.004307</td>\n",
       "      <td>1.000000</td>\n",
       "    </tr>\n",
       "  </tbody>\n",
       "</table>\n",
       "</div>"
      ],
      "text/plain": [
       "                   prod_id   min_age   max_age  difficulty_level  piece_count  \\\n",
       "prod_id           1.000000  0.018579  0.138579         -0.040951     0.203015   \n",
       "min_age           0.018579  1.000000  0.546892          0.348324     0.624393   \n",
       "max_age           0.138579  0.546892  1.000000          0.044568     0.366986   \n",
       "difficulty_level -0.040951  0.348324  0.044568          1.000000     0.461439   \n",
       "piece_count       0.203015  0.624393  0.366986          0.461439     1.000000   \n",
       "num_reviews      -0.035542  0.524501  0.364293          0.278958     0.544933   \n",
       "star_rating      -0.073840  0.056721  0.055510          0.092253     0.066226   \n",
       "list_price        0.442360  0.468382  0.304641          0.399360     0.861768   \n",
       "\n",
       "                  num_reviews  star_rating  list_price  \n",
       "prod_id             -0.035542    -0.073840    0.442360  \n",
       "min_age              0.524501     0.056721    0.468382  \n",
       "max_age              0.364293     0.055510    0.304641  \n",
       "difficulty_level     0.278958     0.092253    0.399360  \n",
       "piece_count          0.544933     0.066226    0.861768  \n",
       "num_reviews          1.000000    -0.013999    0.423368  \n",
       "star_rating         -0.013999     1.000000   -0.004307  \n",
       "list_price           0.423368    -0.004307    1.000000  "
      ]
     },
     "execution_count": 20,
     "metadata": {},
     "output_type": "execute_result"
    },
    {
     "data": {
      "image/png": "[encoded data removed]",
      "text/plain": [
       "<Figure size 432x288 with 2 Axes>"
      ]
     },
     "metadata": {
      "needs_background": "light"
     },
     "output_type": "display_data"
    }
   ],
   "source": [
    "# create a dataframe of the numeric columns you wish to include in the correlation\n",
    "dfnumeric = df[['prod_id','min_age','max_age','difficulty_level','piece_count','num_reviews','star_rating','list_price']]\n",
    "corr = dfnumeric.corr()\n",
    "\n",
    "ax = sns.heatmap(corr, vmin=-1, vmax=1, center=0,cmap = 'Blues',square=True)\n",
    "ax.set_xticklabels(ax.get_xticklabels(),rotation=45,horizontalalignment='right');\n",
    "corr"
   ]
  },
  {
   "cell_type": "code",
   "execution_count": 21,
   "metadata": {
    "index": 48
   },
   "outputs": [],
   "source": [
    "#most positively correlated feature\n",
    "most_correlated_feature = train.piece_count"
   ]
  },
  {
   "cell_type": "markdown",
   "metadata": {
    "index": 50
   },
   "source": [
    "## b) Create a scatter plot to look for a linear relationship"
   ]
  },
  {
   "cell_type": "code",
   "execution_count": 22,
   "metadata": {
    "index": 51
   },
   "outputs": [
    {
     "data": {
      "image/png": "[encoded data removed]",
      "text/plain": [
       "<Figure size 864x432 with 1 Axes>"
      ]
     },
     "metadata": {
      "needs_background": "light"
     },
     "output_type": "display_data"
    }
   ],
   "source": [
    "#visualise whether there appears to be a linear relationship\n",
    "#between the most positively correlated feature and the dependent variable.\n",
    "\n",
    "fig,ax = plt.subplots(figsize = (12,6))\n",
    "ax.scatter(train.piece_count,train.list_price,color='teal');\n",
    "ax.set_ylabel('List Price',size=15)\n",
    "ax.set_xlabel('Piece Count', size=15)\n",
    "ax.set_title('Piece Counts vs List Price',size=20,weight='bold');"
   ]
  },
  {
   "cell_type": "markdown",
   "metadata": {
    "index": 47
   },
   "source": [
    "## Observation 3:\n",
    "The x and y axis labels in the above heatmap diagrams indicate the pair of values that are being compared, and then the color and the number represent the correlation. Based on the heatmap, we can observe that **'piece_count is most positively strongly correlated** with the target 'list_price'.\n",
    "\n",
    "The above scatter plot shows a fairly clear linear relationship between piece_count and the list_price. It looks like we are ready to proceed with creating a simple linear regression model."
   ]
  },
  {
   "cell_type": "markdown",
   "metadata": {
    "index": 54
   },
   "source": [
    "# 4. Build a Simple Linear Regression Model\n",
    "**Analysis requirements; Now, create a linear regression model using the 'statsmodels' library where the most correlated feature is used as the independent variable and the dependent variable is properly set.** \n",
    "\n",
    "We will use the piece_count feature to predict list_price."
   ]
  },
  {
   "cell_type": "code",
   "execution_count": 23,
   "metadata": {
    "index": 55
   },
   "outputs": [
    {
     "data": {
      "text/html": [
       "<table class=\"simpletable\">\n",
       "<caption>OLS Regression Results</caption>\n",
       "<tr>\n",
       "  <th>Dep. Variable:</th>       <td>list_price</td>    <th>  R-squared:         </th> <td>   0.743</td> \n",
       "</tr>\n",
       "<tr>\n",
       "  <th>Model:</th>                   <td>OLS</td>       <th>  Adj. R-squared:    </th> <td>   0.742</td> \n",
       "</tr>\n",
       "<tr>\n",
       "  <th>Method:</th>             <td>Least Squares</td>  <th>  F-statistic:       </th> <td>   2141.</td> \n",
       "</tr>\n",
       "<tr>\n",
       "  <th>Date:</th>             <td>Fri, 26 Aug 2022</td> <th>  Prob (F-statistic):</th> <td>6.91e-221</td>\n",
       "</tr>\n",
       "<tr>\n",
       "  <th>Time:</th>                 <td>14:58:41</td>     <th>  Log-Likelihood:    </th> <td> -3749.0</td> \n",
       "</tr>\n",
       "<tr>\n",
       "  <th>No. Observations:</th>      <td>   744</td>      <th>  AIC:               </th> <td>   7502.</td> \n",
       "</tr>\n",
       "<tr>\n",
       "  <th>Df Residuals:</th>          <td>   742</td>      <th>  BIC:               </th> <td>   7511.</td> \n",
       "</tr>\n",
       "<tr>\n",
       "  <th>Df Model:</th>              <td>     1</td>      <th>                     </th>     <td> </td>    \n",
       "</tr>\n",
       "<tr>\n",
       "  <th>Covariance Type:</th>      <td>nonrobust</td>    <th>                     </th>     <td> </td>    \n",
       "</tr>\n",
       "</table>\n",
       "<table class=\"simpletable\">\n",
       "<tr>\n",
       "       <td></td>          <th>coef</th>     <th>std err</th>      <th>t</th>      <th>P>|t|</th>  <th>[0.025</th>    <th>0.975]</th>  \n",
       "</tr>\n",
       "<tr>\n",
       "  <th>Intercept</th>   <td>   11.4565</td> <td>    1.593</td> <td>    7.192</td> <td> 0.000</td> <td>    8.329</td> <td>   14.584</td>\n",
       "</tr>\n",
       "<tr>\n",
       "  <th>piece_count</th> <td>    0.0875</td> <td>    0.002</td> <td>   46.273</td> <td> 0.000</td> <td>    0.084</td> <td>    0.091</td>\n",
       "</tr>\n",
       "</table>\n",
       "<table class=\"simpletable\">\n",
       "<tr>\n",
       "  <th>Omnibus:</th>       <td>1141.526</td> <th>  Durbin-Watson:     </th>  <td>   1.961</td> \n",
       "</tr>\n",
       "<tr>\n",
       "  <th>Prob(Omnibus):</th>  <td> 0.000</td>  <th>  Jarque-Bera (JB):  </th> <td>464258.231</td>\n",
       "</tr>\n",
       "<tr>\n",
       "  <th>Skew:</th>           <td> 8.756</td>  <th>  Prob(JB):          </th>  <td>    0.00</td> \n",
       "</tr>\n",
       "<tr>\n",
       "  <th>Kurtosis:</th>       <td>124.117</td> <th>  Cond. No.          </th>  <td>    978.</td> \n",
       "</tr>\n",
       "</table><br/><br/>Notes:<br/>[1] Standard Errors assume that the covariance matrix of the errors is correctly specified."
      ],
      "text/plain": [
       "<class 'statsmodels.iolib.summary.Summary'>\n",
       "\"\"\"\n",
       "                            OLS Regression Results                            \n",
       "==============================================================================\n",
       "Dep. Variable:             list_price   R-squared:                       0.743\n",
       "Model:                            OLS   Adj. R-squared:                  0.742\n",
       "Method:                 Least Squares   F-statistic:                     2141.\n",
       "Date:                Fri, 26 Aug 2022   Prob (F-statistic):          6.91e-221\n",
       "Time:                        14:58:41   Log-Likelihood:                -3749.0\n",
       "No. Observations:                 744   AIC:                             7502.\n",
       "Df Residuals:                     742   BIC:                             7511.\n",
       "Df Model:                           1                                         \n",
       "Covariance Type:            nonrobust                                         \n",
       "===============================================================================\n",
       "                  coef    std err          t      P>|t|      [0.025      0.975]\n",
       "-------------------------------------------------------------------------------\n",
       "Intercept      11.4565      1.593      7.192      0.000       8.329      14.584\n",
       "piece_count     0.0875      0.002     46.273      0.000       0.084       0.091\n",
       "==============================================================================\n",
       "Omnibus:                     1141.526   Durbin-Watson:                   1.961\n",
       "Prob(Omnibus):                  0.000   Jarque-Bera (JB):           464258.231\n",
       "Skew:                           8.756   Prob(JB):                         0.00\n",
       "Kurtosis:                     124.117   Cond. No.                         978.\n",
       "==============================================================================\n",
       "\n",
       "Notes:\n",
       "[1] Standard Errors assume that the covariance matrix of the errors is correctly specified.\n",
       "\"\"\""
      ]
     },
     "execution_count": 23,
     "metadata": {},
     "output_type": "execute_result"
    }
   ],
   "source": [
    "#fit a statsmodels linear regression model to the data and output a summary for the model.\n",
    "import statsmodels.formula.api as smf\n",
    "import statsmodels.stats.api as sms\n",
    "\n",
    "f='list_price~piece_count'\n",
    "model = smf.ols(formula=f,data=train).fit()\n",
    "model.summary()"
   ]
  },
  {
   "cell_type": "markdown",
   "metadata": {
    "index": 57
   },
   "source": [
    "# 5. Interpret the Simple Linear Regression Model\n",
    "**Analysis requirements: Once the model has been fit, the coefficient for our independent variable, its p-value, and the coefficient confidence interval should be interpeted.  We should ask ourselves whether or not the relationship in the model seems plausible.**"
   ]
  },
  {
   "cell_type": "markdown",
   "metadata": {
    "index": 58
   },
   "source": [
    "Now that the model has been fit, we can interpret the model parameters. \n",
    "\n",
    "Specifically:\n",
    "- What do the coefficients for the intercept and independent variable suggest about the dependent variable?\n",
    "- Are the coefficients found to be statistically significant?\n",
    "- What are the confidence intervals for the coefficients?\n",
    "- Do the relationships found by the model seem plausible? "
   ]
  },
  {
   "cell_type": "markdown",
   "metadata": {
    "index": "Placeholder"
   },
   "source": [
    "MODEL: list_price = 11.4565  +  0.0875*piece_count + error\n",
    "\n",
    "The intercept of 11.4565 represents the value of the list_price (in USD) when piece_count is zero.\n",
    "The coefficient of 0.0875 is positive which implies each extra piece_count of lego has a positive impact on the list_price by on average USD0.0875.\n",
    "\n",
    "The intercept has a t-statistic of 7.192 and piece_count has a t-stat of 46.273 these are a measure of how statistically significant the variables are. The larger the absolute value of the t-statistic the smaller the p-value, and the greater the evidence against the null hypothesis. The p-value tests the null hypothesis that the coefficient is zero. We can use a significance level of 0.05 or even 0.01 (both P values are 0.000). Given both P values are less than the alpha level we can reject the null hypothesis that the coefficients are zero. It is highly likely that piece_count has an impact on the list_price of lego. \n",
    "\n",
    "The F-statistic compares the joint effect of all the variables together. Given we have only one variable in this simple regression model this statistic doesn't add more value to our analysis beyond the t-stat and p-value.\n",
    "\n",
    "Another measure of precision is the confidence interval. We have been given a 95% confidence interval in the model summary. We are 95% confident that the slope lies between 0.084 and 0.091. Values below the lower limit or above the upper limit are not excluded, but are not likely. With the confidence limit of 95%, each of these probabilities is only 2.5%. With regards to the intercept we are 95% confidence its value will lie between 8.329 and 14.584 \n",
    "\n",
    "The R2 or coefficient of determination is .743 which means 74.3% of the variations in list price is explained by the independent variable piece count in our model.\n",
    "\n",
    "The relationships found by the model appear plausible. While the initial scatter plot of count-piece vs price_list appear to highlight a positive linear relationship, the correlation coefficient confirms a strong positive relationship between both variables (alway being wary of causation). The regression appears to confirm the magnitude of the relationship as expressed by the slope. It would be reasonable to assume the number of pieces in lego would be a reflection of the listing price of the lego. Eventhough the magnitude of the slope of of x didn't appear large at 0.0875, however, it would not be unreasonable to have a 200 piece set of lego to be priced around USD28.95 (11.4565 + (0.0875 * 200). Clearly there are potentially other factors considered as having an impact on the listing price, even, the category factors & not just numeric dats in the database eg the various lego themes such as Starwars, City etc\n",
    "\n",
    "The model summary produced more statistics on necessary assumptions of OLS which need be fulfilled in order to make reliable predictions or inferences from the model. These will be addressed later."
   ]
  },
  {
   "cell_type": "markdown",
   "metadata": {
    "index": 60
   },
   "source": [
    "# 6. Evaluate the Simple Linear Regression Model."
   ]
  },
  {
   "cell_type": "markdown",
   "metadata": {
    "index": 61
   },
   "source": [
    "**Analysis requirements: Before we can make a final assessment of the model, we need to compare its metrics with the baseline model created in section 2, and we will need to check the assumptions of linear regression.**\n",
    "\n",
    "Given the model parameters have been interpreted, the model should be assessed based on predictive metrics and whether or not the model is meeting the assumptions of linear regression. \n",
    "\n",
    "We will reviewed this section through a series a steps (a-b). "
   ]
  },
  {
   "cell_type": "markdown",
   "metadata": {
    "index": 62
   },
   "source": [
    "## a) Compare the $R^2$ and the Root Mean Squared Error of the simple linear regression model with the baseline model. "
   ]
  },
  {
   "cell_type": "code",
   "execution_count": 24,
   "metadata": {
    "index": 63
   },
   "outputs": [
    {
     "name": "stdout",
     "output_type": "stream",
     "text": [
      "Baseline R^2:  0.0\n",
      "Baseline RMSE: 73.60214730890442\n",
      "----------------------------\n",
      "Regression R^2:  0.7426440497844149\n",
      "Regression RMSE: 37.33856230937886\n"
     ]
    }
   ],
   "source": [
    "model_r2 = r2_score(train.list_price, model.predict())\n",
    "\n",
    "model_rmse = mean_squared_error(train.list_price, model.predict(), squared=False)\n",
    "\n",
    "print('Baseline R^2: ', baseline_r2)\n",
    "print('Baseline RMSE:', baseline_rmse)\n",
    "print('----------------------------')\n",
    "print('Regression R^2: ', model_r2)\n",
    "print('Regression RMSE:', model_rmse)"
   ]
  },
  {
   "cell_type": "markdown",
   "metadata": {
    "index": 65
   },
   "source": [
    "### Interpret the model metrics"
   ]
  },
  {
   "cell_type": "markdown",
   "metadata": {
    "index": "Placeholder"
   },
   "source": [
    "The baseline metrics have already been discussed, but will touch on them to help make a comparison between the two models.\n",
    "\n",
    "R^2 of the baseline model generates a score of 0, which indicates an extremely poor model with 0% of the variation in list price being explained by baseline_preds. The best possible score any model can predict is 1.0. This constant model, where we have used the mean as the predictor, has disregarded any input features. We are not making any use of an independent x variable to predict a y variable. \n",
    "\n",
    "By comparison, when we have taken time to look at potential x variables and taken time to see if there is a linear relationship in the variables and correlation. We appear to have taken on a more reasonable variable in piece_count to help predict variability in line-price. (which shared as correlation of 0.86 with the y variable list_price (correlation squared is R2). The R2 or coefficient of determination is .743 which means 74.3% of the variations in list_price is explained by the independent variable piece_count in our model. This is a much improved result and the second regression appears to better fit the observed data.\n",
    "\n",
    "Root Mean Square Error (RMSE) is the standard deviation of the residuals (prediction errors), which is basically a measure of how far from the regression line data points are. RMSE is a measure of how spread out these residuals are. In other words, it tells you how concentrated the data is around the line of best fit. While there is no correct value for RMSE, the lower the better and a zero score means the model is perfect.\n",
    "\n",
    "RMSE has a direct relationship with the correlation coefficient. For example, if the correlation coefficient is 1, the RMSE will be 0, because all of the points lie on the regression line (and therefore there are no errors). The mean as a predictor would not have a strong correlation with the list price. The output value is in the same unit as the dependent variable (USD) so its relatively easy to interpret. This means that in general, the model’s predicted listing price is generally about USD73.60 off. This isn't great predictability as from the histogram from section 1 shows the majority of lego sets sell in the USD0 to USD100 bracket. Having used a more aimed approach in chosing the x variable for the second model the RMSE of 37.33 is a much lower result which tells you the data points are more concentrated around the line of best fit.\n",
    "\n",
    "It's reasonable to assume that our second model is more suitable that our simple naieve base model and is worth pursuing further."
   ]
  },
  {
   "cell_type": "markdown",
   "metadata": {
    "index": 67
   },
   "source": [
    "## b) Check the assumptions of simple linear regression\n",
    "We will investigate 3 OLS assumptions of linearity, normality & homoscedasticity."
   ]
  },
  {
   "cell_type": "markdown",
   "metadata": {
    "index": 68
   },
   "source": [
    "## b i) Investigating Linearity\n",
    "\n",
    "First, let's check whether the linearity assumption holds."
   ]
  },
  {
   "cell_type": "code",
   "execution_count": 27,
   "metadata": {
    "index": 69
   },
   "outputs": [
    {
     "data": {
      "image/png": "[encoded data removed]",
      "text/plain": [
       "<Figure size 1080x432 with 1 Axes>"
      ]
     },
     "metadata": {
      "needs_background": "light"
     },
     "output_type": "display_data"
    }
   ],
   "source": [
    "import numpy as np # Working with arrays\n",
    "\n",
    "preds = model.predict()\n",
    "fig, ax = plt.subplots(figsize=(15,6))\n",
    "\n",
    "perfect_line = np.arange(df.list_price.min(), df.list_price.max())\n",
    "ax.plot(perfect_line , linestyle=\"--\", color=\"orange\", label=\"Perfect Fit\")\n",
    "ax.scatter(df.list_price, preds, alpha=0.5, color='teal')\n",
    "ax.set_xlabel(\"Actual Price\")\n",
    "ax.set_ylabel(\"Predicted Price\")\n",
    "ax.legend();"
   ]
  },
  {
   "cell_type": "markdown",
   "metadata": {
    "index": 71
   },
   "source": [
    "Are you violating the linearity assumption?"
   ]
  },
  {
   "cell_type": "raw",
   "metadata": {
    "index": "Placeholder"
   },
   "source": [
    "The scatter plot that shows a fairly clear linear relationship between the piece_count variable and the y list-price value. There are what appears to be outliers, which makes it harder to detect a clearly linear fit. This can be addressed further (remove, amend or keep). The outliers may address what appears to be the lack of linearity as the piece count increases. At the low price list of 0-100 and 100-200 where the majority of lego sets are priced there appears to be a much clearer linear relationship. Once the outliers are addressed, if the graph does not improve, then we may not have have specified a correct linear model and we may need to change the model specification through data transformation. The issue with the current model through the outliers is that the coefficients and Standard errors in the model are unreliable making inferencing and prediction of the model not reliable. In its current form I would say the outliers are the reason for the true lack of visible linearity and this needs addressing. I do not believe we have violated linearity and I dont see a curve in the data, the data requires further handling. I believe we will be able to work with an OLS regression model to get a line of best fit."
   ]
  },
  {
   "cell_type": "markdown",
   "metadata": {
    "index": 73
   },
   "source": [
    "## b ii) Investigating Normality\n",
    "\n",
    "Now let's check whether the normality assumption holds for our model."
   ]
  },
  {
   "cell_type": "code",
   "execution_count": 28,
   "metadata": {
    "index": 74
   },
   "outputs": [
    {
     "name": "stderr",
     "output_type": "stream",
     "text": [
      "/Users/Alma/opt/anaconda3/lib/python3.9/site-packages/statsmodels/graphics/gofplots.py:993: UserWarning: marker is redundantly defined by the 'marker' keyword argument and the fmt string \"bo\" (-> marker='o'). The keyword argument will take precedence.\n",
      "  ax.plot(x, y, fmt, **plot_style)\n",
      "/Users/Alma/opt/anaconda3/lib/python3.9/site-packages/statsmodels/graphics/gofplots.py:993: UserWarning: color is redundantly defined by the 'color' keyword argument and the fmt string \"bo\" (-> color='b'). The keyword argument will take precedence.\n",
      "  ax.plot(x, y, fmt, **plot_style)\n"
     ]
    },
    {
     "data": {
      "image/png": "[encoded data removed]",
      "text/plain": [
       "<Figure size 432x288 with 1 Axes>"
      ]
     },
     "metadata": {
      "needs_background": "light"
     },
     "output_type": "display_data"
    }
   ],
   "source": [
    "# Run this code without changes\n",
    "import scipy.stats as stats\n",
    "import statsmodels.api as sm\n",
    "\n",
    "residuals = (df.list_price - preds)\n",
    "sm.graphics.qqplot(residuals, dist=stats.norm, line='45', fit=True, color='teal');"
   ]
  },
  {
   "cell_type": "markdown",
   "metadata": {
    "index": 76
   },
   "source": [
    "Are you violating the normality assumption?"
   ]
  },
  {
   "cell_type": "code",
   "execution_count": 29,
   "metadata": {},
   "outputs": [
    {
     "name": "stdout",
     "output_type": "stream",
     "text": [
      "Residual Outliers: \n",
      " Mean: -1.5607586907472363e-14 \n",
      " Max: 548.2046870979108 \n",
      " Min: -159.99089028725643 \n",
      " Std: 37.363680753060244\n"
     ]
    },
    {
     "data": {
      "image/png": "[encoded data removed]",
      "text/plain": [
       "<Figure size 1080x432 with 1 Axes>"
      ]
     },
     "metadata": {
      "needs_background": "light"
     },
     "output_type": "display_data"
    }
   ],
   "source": [
    "#Regression error histogram\n",
    "residuals = (df.list_price - preds)\n",
    "fig,ax = plt.subplots(figsize =(15,6))\n",
    "ax.hist(residuals,bins=100)\n",
    "ax.set_title('Distribution of residuals', size=20,weight='bold')\n",
    "ax.set_xlabel('residuals', size=15)\n",
    "ax.set_ylabel('frequency', size=15)\n",
    "print('Residual Outliers:',\"\\n\",'Mean:',residuals.mean(),'\\n','Max:',residuals.max(),'\\n','Min:',residuals.min(),\n",
    "      '\\n','Std:',residuals.std())"
   ]
  },
  {
   "cell_type": "code",
   "execution_count": 30,
   "metadata": {},
   "outputs": [
    {
     "data": {
      "text/plain": [
       "[('jarque-bera', 464258.23116774356),\n",
       " ('prob', 0.0),\n",
       " ('skew', 8.756151004076566),\n",
       " ('kurtosis', 124.11726240106427)]"
      ]
     },
     "execution_count": 30,
     "metadata": {},
     "output_type": "execute_result"
    }
   ],
   "source": [
    "#Jacque-bera test\n",
    "import statsmodels.stats.api as sms\n",
    "name = ['jarque-bera','prob','skew','kurtosis']\n",
    "test=sms.jarque_bera(model.resid)\n",
    "list(zip(name,test))"
   ]
  },
  {
   "cell_type": "markdown",
   "metadata": {
    "index": "Placeholder"
   },
   "source": [
    "Normality requires the model residuals to follow a normal distribution, to draw a valid conclusions in hypothesis testing. This qqplot line should ideally be a straight line. This line is somewhat curved and suggests the residuals have a non-normal distribution. \n",
    "\n",
    "If we examine another graph of a histogram of the model residuals it is noticable there are large outliers in the residuals. The range from min to max outlier is large which supports a large standard deviation in the data. This does not support the normality in the Outliers: \n",
    " Mean: -1.5607586907472363e-14 \n",
    " Max: 548.2046870979108 \n",
    " Min: -159.99089028725643 \n",
    " Std: 37.363680753060244\n",
    "\n",
    "Jarque-Bera, which is a statistical test for normality. This is specifically a test that determines whether the data tested for skewness and kurtosis follows a normal distribution. The value for JB test is 464258.231. if JB is far from zero, it indicates that the data does not have a normal distribution, our number is significantly higher. The P value is 0.0 which would lead us to reject the null hypothesis. The null hypothesis for the test is that the data is normally distributed; the alternate hypothesis is that the data does not come from a normal distribution. We have a kurtosis of 124.11726, which is significantly higher than 3 and this would indicate heavier tails in the data over a normal distribution. Our skewness value of 8.756 indicates our data is skewed. A normal distribution should have a skewness of zero. Failing the normality test allows us to state with 95% confidence the data does not fit the normal distribution.\n",
    "\n",
    "[('jarque-bera', 464258.23116774386),\n",
    " ('prob', 0.0),\n",
    " ('skew', 8.75615100407657),\n",
    " ('kurtosis', 124.1172624010643)]"
   ]
  },
  {
   "cell_type": "markdown",
   "metadata": {
    "index": 78
   },
   "source": [
    "## b iii) Investigating Homoscedasticity\n",
    "\n",
    "Now let's check whether the model's errors are indeed homoscedastic or if they violate this principle and display heteroscedasticity."
   ]
  },
  {
   "cell_type": "code",
   "execution_count": null,
   "metadata": {
    "index": 79
   },
   "outputs": [],
   "source": [
    "fig, ax = plt.subplots(figsize=(15,6))\n",
    "\n",
    "ax.scatter(preds, residuals, alpha=0.5, color='teal')\n",
    "ax.plot(preds, [0 for i in range(len(df))])\n",
    "ax.set_xlabel(\"Predicted Value\",size=15)\n",
    "ax.set_ylabel(\"Actual - Predicted Value\",size=15)\n",
    "ax.set_title(\"Are the model's errors homoscedastic or is there a pattern forming? \",size=20,weight='bold');"
   ]
  },
  {
   "cell_type": "markdown",
   "metadata": {
    "index": 81
   },
   "source": [
    "Are we violating the homoscedasticity assumption?"
   ]
  },
  {
   "cell_type": "code",
   "execution_count": null,
   "metadata": {},
   "outputs": [],
   "source": [
    "#Breusch pagan & Whites Test to test for null hypothesis of homoscedasticity\n",
    "from statsmodels.stats.diagnostic import het_breuschpagan\n",
    "from statsmodels.stats.diagnostic import het_white\n",
    "\n",
    "bp_test = sms.het_breuschpagan(model.resid, model.model.exog)\n",
    "white_test = sms.het_white(model.resid, model.model.exog)\n",
    "\n",
    "labels = ['LM Statistic','LM-Test p-value','F-Statistic','F-Test p-value']\n",
    "labels_WT = ['LM Statistic','LM-Test p-value','F-Statistic','F-Test p-value']\n",
    "\n",
    "print(\"BP TEST:\",'\\n',list(zip(labels,bp_test)))\n",
    "print(\"WHITE TEST:\",'\\n',list(zip(labels,white_test)))"
   ]
  },
  {
   "cell_type": "markdown",
   "metadata": {
    "index": "Placeholder"
   },
   "source": [
    "homoscedaticity suggests your residual should be constant and not increasing or increasing.\n",
    "There appears to be some pattern forming as we move beyond the $200 price line bracket, it may well be due to an important variable being omitted from the modelling, more than just the outliers present in the data. We have used some statistical tests - Breusch pagan & Whites Test to test further for the null hypothesis of homoscedasticity.\n",
    "\n",
    "Focusing on the F-stat for both tests the F-stats are reasonably large from each test which would indicate the variances are different. The p value for both tests are below zero and using an alpha of 0.05 the p values indicate that we should reject the null hypothesis of homoscedasticity.\n"
   ]
  },
  {
   "cell_type": "markdown",
   "metadata": {
    "index": 83
   },
   "source": [
    "# Overall Observation: Linear Regression Assumptions Conclusion\n",
    "\n",
    "Given your answers above, how should we interpret our model's coefficients? Do we have a model that can be used for inferential as well as predictive purposes? What might our next steps be?"
   ]
  },
  {
   "cell_type": "markdown",
   "metadata": {
    "index": "Placeholder"
   },
   "source": [
    "The model of using piece_count results in a good R2 value for the model, and proves to be significantly better than the naieve base model.However, there are outliers which may solely be the reason for heterscedastic & non normality in the residuals and presenting an extremely clear linear relationship.\n",
    "\n",
    "The presence of outliers can impact the model and as such it can change the magnitude of the coefficients and standard errors in the models (reducing the ability to trust hypothese testing). Visually you can see from our previous scatter plot outliers (piece count vs line_price section 2)) definately effect the slope of the best fit line ie the coefficients. \n",
    "It’s clearly important to understand how outliers occur, errors in data (often human) should be amended/removed or replaced with perhaps a mean/median value where possible. However, there are outliers that can be actual & authentic, should these be removed or should we give them further consideration?. To remove them will most possibly improve the statistical results of the model - then is this really the correct predictive model. More investigative into the variations needs to occur.\n",
    "\n",
    "Outliers can have an impact on homoscedasticity making it heterscedastic. The outliers distort the statistic tests such that the results are incorrect. Outliers can also impact the normality of residuals leaving you with biased estimates & inaccurate inference.\n",
    "\n",
    "Given OLS requires the assumptions of normality and homoscedasticity (along with linearity & more) it is imperative that these concerns are address in order to make the model more predictable & potentially less biased. One of the big issues with nonnormal errors and heteroscedasticity is that the predictive ability of piece count is not the same across the full length of the price listing data points variable. This makes the model difficult to interpretate.\n",
    "\n",
    "Other than addressing the outliers which may resolve issues in the residuals of heterscedasticity and non normality, there are options of changing the data format. While this type of model must be linear in the coefficients, you could potentially consider transforning X, Y or both variables. eg raising a variable by an exponent, doing a log transformation or using inverse. Transforming the data, however, makes understanding the model more difficult.\n",
    "\n",
    "Beyond statistics the idea that the piece count in a lego set is a determining factor in the listing price is comprehensible. Clearly there are other variables which could be considered (bearing in mind you should never overfit the model) to better fit the model. Looking at other variables available in database the themed lego category is of interest to consider (Excluding an important variable in a model can also result in homoscedasticity). This Theme variable is currently nominal catergorical data so some thought would need to as best way to convert this column. We could consider some dummy encoding (ensuring your define your themes well ie binning your themes to avoid adding too many dummy variables in the model).A simpler was to commence this process and to validate if theme was a variable to introduce into the model we could commence by running 2 regressions parrallell such as a theme using \"City lego\" vs a theme using \"Technic lego\" and see if there was a difference in the model outcomes and the new variables were significant and added diffferent degrees of magnitude to the models.\n",
    "\n",
    "I would conclude that, although this is a great start to regression modelling, the coefficients are currently biased, which leads to lack of ability to inference an accurate relationship between piece_count and list_price or being able to plug values into the model to predict a value for list_price. First step is to start handling the outliers. Assuming they were to be removed there is a high chance that the assumptions of an OLS may then be nolonger violated.\n"
   ]
  }
 ],
 "metadata": {
  "kernelspec": {
   "display_name": "Python 3 (ipykernel)",
   "language": "python",
   "name": "python3"
  },
  "language_info": {
   "codemirror_mode": {
    "name": "ipython",
    "version": 3
   },
   "file_extension": ".py",
   "mimetype": "text/x-python",
   "name": "python",
   "nbconvert_exporter": "python",
   "pygments_lexer": "ipython3",
   "version": "3.9.7"
  }
 },
 "nbformat": 4,
 "nbformat_minor": 4
}
